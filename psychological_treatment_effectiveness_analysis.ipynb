{
 "cells": [
  {
   "cell_type": "code",
   "execution_count": 2,
   "metadata": {},
   "outputs": [
    {
     "name": "stderr",
     "output_type": "stream",
     "text": [
      "[nltk_data] Downloading package stopwords to\n",
      "[nltk_data]     C:\\Users\\avivs\\AppData\\Roaming\\nltk_data...\n",
      "[nltk_data]   Package stopwords is already up-to-date!\n"
     ]
    }
   ],
   "source": [
    "import pandas as pd\n",
    "import numpy as np\n",
    "import matplotlib.pyplot as plt\n",
    "import re\n",
    "import os\n",
    "import glob\n",
    "import fastText\n",
    "import nltk\n",
    "import gensim\n",
    "import json\n",
    "import gzip\n",
    "import io\n",
    "nltk.download('stopwords')\n",
    "from nltk.corpus import stopwords\n",
    "from nltk.stem.porter import PorterStemmer\n",
    "ps= PorterStemmer()"
   ]
  },
  {
   "cell_type": "code",
   "execution_count": 3,
   "metadata": {},
   "outputs": [
    {
     "data": {
      "text/html": [
       "<div>\n",
       "<style scoped>\n",
       "    .dataframe tbody tr th:only-of-type {\n",
       "        vertical-align: middle;\n",
       "    }\n",
       "\n",
       "    .dataframe tbody tr th {\n",
       "        vertical-align: top;\n",
       "    }\n",
       "\n",
       "    .dataframe thead th {\n",
       "        text-align: right;\n",
       "    }\n",
       "</style>\n",
       "<table border=\"1\" class=\"dataframe\">\n",
       "  <thead>\n",
       "    <tr style=\"text-align: right;\">\n",
       "      <th></th>\n",
       "      <th>word</th>\n",
       "      <th>freq</th>\n",
       "      <th>Noun</th>\n",
       "      <th>1st Body</th>\n",
       "      <th>ConciousWord</th>\n",
       "      <th>Verb</th>\n",
       "      <th>Past</th>\n",
       "      <th>Present</th>\n",
       "      <th>Future</th>\n",
       "      <th>Other</th>\n",
       "      <th>Adjective</th>\n",
       "      <th>Adverb</th>\n",
       "      <th>Infinitive</th>\n",
       "      <th>Emotion</th>\n",
       "      <th>Name</th>\n",
       "    </tr>\n",
       "  </thead>\n",
       "  <tbody>\n",
       "    <tr>\n",
       "      <td>0</td>\n",
       "      <td>conciousword</td>\n",
       "      <td>2409</td>\n",
       "      <td>0</td>\n",
       "      <td>0</td>\n",
       "      <td>0</td>\n",
       "      <td>0</td>\n",
       "      <td>0</td>\n",
       "      <td>0</td>\n",
       "      <td>0</td>\n",
       "      <td>0</td>\n",
       "      <td>0</td>\n",
       "      <td>0</td>\n",
       "      <td>0</td>\n",
       "      <td>0</td>\n",
       "      <td>0</td>\n",
       "    </tr>\n",
       "    <tr>\n",
       "      <td>1</td>\n",
       "      <td>pst1fst</td>\n",
       "      <td>1765</td>\n",
       "      <td>0</td>\n",
       "      <td>0</td>\n",
       "      <td>0</td>\n",
       "      <td>0</td>\n",
       "      <td>0</td>\n",
       "      <td>0</td>\n",
       "      <td>0</td>\n",
       "      <td>0</td>\n",
       "      <td>0</td>\n",
       "      <td>0</td>\n",
       "      <td>0</td>\n",
       "      <td>0</td>\n",
       "      <td>0</td>\n",
       "    </tr>\n",
       "    <tr>\n",
       "      <td>2</td>\n",
       "      <td>לא</td>\n",
       "      <td>1604</td>\n",
       "      <td>0</td>\n",
       "      <td>0</td>\n",
       "      <td>0</td>\n",
       "      <td>0</td>\n",
       "      <td>0</td>\n",
       "      <td>0</td>\n",
       "      <td>0</td>\n",
       "      <td>1</td>\n",
       "      <td>0</td>\n",
       "      <td>0</td>\n",
       "      <td>0</td>\n",
       "      <td>0</td>\n",
       "      <td>0</td>\n",
       "    </tr>\n",
       "    <tr>\n",
       "      <td>3</td>\n",
       "      <td>זה</td>\n",
       "      <td>1050</td>\n",
       "      <td>0</td>\n",
       "      <td>0</td>\n",
       "      <td>0</td>\n",
       "      <td>0</td>\n",
       "      <td>0</td>\n",
       "      <td>0</td>\n",
       "      <td>0</td>\n",
       "      <td>1</td>\n",
       "      <td>0</td>\n",
       "      <td>0</td>\n",
       "      <td>0</td>\n",
       "      <td>0</td>\n",
       "      <td>0</td>\n",
       "    </tr>\n",
       "    <tr>\n",
       "      <td>4</td>\n",
       "      <td>אני</td>\n",
       "      <td>987</td>\n",
       "      <td>0</td>\n",
       "      <td>1</td>\n",
       "      <td>0</td>\n",
       "      <td>0</td>\n",
       "      <td>0</td>\n",
       "      <td>0</td>\n",
       "      <td>0</td>\n",
       "      <td>0</td>\n",
       "      <td>0</td>\n",
       "      <td>0</td>\n",
       "      <td>0</td>\n",
       "      <td>0</td>\n",
       "      <td>0</td>\n",
       "    </tr>\n",
       "  </tbody>\n",
       "</table>\n",
       "</div>"
      ],
      "text/plain": [
       "           word  freq  Noun  1st Body  ConciousWord  Verb  Past  Present  \\\n",
       "0  conciousword  2409     0         0             0     0     0        0   \n",
       "1       pst1fst  1765     0         0             0     0     0        0   \n",
       "2            לא  1604     0         0             0     0     0        0   \n",
       "3            זה  1050     0         0             0     0     0        0   \n",
       "4           אני   987     0         1             0     0     0        0   \n",
       "\n",
       "   Future  Other  Adjective  Adverb  Infinitive  Emotion  Name  \n",
       "0       0      0          0       0           0        0     0  \n",
       "1       0      0          0       0           0        0     0  \n",
       "2       0      1          0       0           0        0     0  \n",
       "3       0      1          0       0           0        0     0  \n",
       "4       0      0          0       0           0        0     0  "
      ]
     },
     "execution_count": 3,
     "metadata": {},
     "output_type": "execute_result"
    }
   ],
   "source": [
    "df= pd.read_excel(\"words.xlsx\")\n",
    "df.head()"
   ]
  },
  {
   "cell_type": "code",
   "execution_count": 4,
   "metadata": {},
   "outputs": [],
   "source": [
    "import re\n",
    "pattern = re.compile(\"[A-Za-z]+\")\n",
    "english_words =[]\n",
    "\n",
    "for word in df['word']:\n",
    "    if pattern.fullmatch(word):\n",
    "        english_words.append(word)"
   ]
  },
  {
   "cell_type": "code",
   "execution_count": 5,
   "metadata": {},
   "outputs": [
    {
     "data": {
      "text/plain": [
       "['conciousword',\n",
       " 'spectoken',\n",
       " 'break',\n",
       " 'laugh',\n",
       " 'unclear',\n",
       " 'ct',\n",
       " 'shit',\n",
       " 'happens',\n",
       " 'alert',\n",
       " 'doing',\n",
       " 'there',\n",
       " 'jobs',\n",
       " 'ups',\n",
       " 'and',\n",
       " 'downs',\n",
       " 'out',\n",
       " 'cool',\n",
       " 'mri',\n",
       " 'all',\n",
       " 'over',\n",
       " 'the',\n",
       " 'place']"
      ]
     },
     "execution_count": 5,
     "metadata": {},
     "output_type": "execute_result"
    }
   ],
   "source": [
    "english_words"
   ]
  },
  {
   "cell_type": "code",
   "execution_count": 6,
   "metadata": {},
   "outputs": [
    {
     "data": {
      "text/plain": [
       "7986"
      ]
     },
     "execution_count": 6,
     "metadata": {},
     "output_type": "execute_result"
    }
   ],
   "source": [
    "df.shape[0]"
   ]
  },
  {
   "cell_type": "code",
   "execution_count": 7,
   "metadata": {},
   "outputs": [],
   "source": [
    "# We seperate the tagged words to groups\n",
    "from collections import defaultdict\n",
    "groups = defaultdict(list)\n",
    "    \n",
    "for i,word in enumerate(df[\"word\"]):\n",
    "    for c in range(2,(len(df.columns)),1):\n",
    "        if df[df.columns[c]][i] == 1:\n",
    "            groups[df.columns[c]].append(word)"
   ]
  },
  {
   "cell_type": "code",
   "execution_count": 8,
   "metadata": {},
   "outputs": [
    {
     "data": {
      "text/plain": [
       "dict_keys(['Other', '1st Body', 'Verb', 'Past', 'Adverb', 'Noun', 'ConciousWord', 'Present', 'Adjective', 'Name', 'Emotion', 'Infinitive', 'Future'])"
      ]
     },
     "execution_count": 8,
     "metadata": {},
     "output_type": "execute_result"
    }
   ],
   "source": [
    "groups.keys()"
   ]
  },
  {
   "cell_type": "code",
   "execution_count": 10,
   "metadata": {},
   "outputs": [],
   "source": [
    "#all files of patients before treatment\n",
    "beforeArr = []\n",
    "for index in range(1, 21):\n",
    "    name = \"{index}.txt\".format(index=index)\n",
    "    path = os.path.join('before/', name)\n",
    "    with io.open(path, mode=\"r\", encoding=\"utf-8\") as fd:\n",
    "        content = fd.read()\n",
    "        content = re.sub(r'\\d{1,2}\\.\\d{1,2}\\.\\d{2,4}', 'date', content)\n",
    "        beforeArr.append(content.lower())"
   ]
  },
  {
   "cell_type": "code",
   "execution_count": 11,
   "metadata": {},
   "outputs": [],
   "source": [
    "#all files of patients after treatment\n",
    "afterArr = []\n",
    "for index in range(1, 21):\n",
    "    name = \"{index}.txt\".format(index=index)\n",
    "    path = os.path.join('after/', name)\n",
    "    with io.open(path, mode=\"r\", encoding=\"utf-8\") as fd:\n",
    "        content = fd.read()\n",
    "        content = re.sub(r'\\d{1,2}\\.\\d{1,2}\\.\\d{2,4}', 'date', content)\n",
    "        afterArr.append(content.lower())"
   ]
  },
  {
   "cell_type": "code",
   "execution_count": 12,
   "metadata": {},
   "outputs": [
    {
     "data": {
      "text/plain": [
       "Index(['word', 'freq', 'Noun', '1st Body', 'ConciousWord', 'Verb', 'Past',\n",
       "       'Present', 'Future', 'Other', 'Adjective', 'Adverb', 'Infinitive',\n",
       "       'Emotion', 'Name'],\n",
       "      dtype='object')"
      ]
     },
     "execution_count": 12,
     "metadata": {},
     "output_type": "execute_result"
    }
   ],
   "source": [
    "df.columns"
   ]
  },
  {
   "cell_type": "markdown",
   "metadata": {},
   "source": [
    "<br>"
   ]
  },
  {
   "cell_type": "markdown",
   "metadata": {},
   "source": [
    "<br>"
   ]
  },
  {
   "cell_type": "markdown",
   "metadata": {},
   "source": [
    "<br>"
   ]
  },
  {
   "cell_type": "markdown",
   "metadata": {},
   "source": [
    "## Patients dataframe <br>- including the ratio between before and after treatment for each group and patient"
   ]
  },
  {
   "cell_type": "code",
   "execution_count": 27,
   "metadata": {},
   "outputs": [
    {
     "data": {
      "text/html": [
       "<div>\n",
       "<style scoped>\n",
       "    .dataframe tbody tr th:only-of-type {\n",
       "        vertical-align: middle;\n",
       "    }\n",
       "\n",
       "    .dataframe tbody tr th {\n",
       "        vertical-align: top;\n",
       "    }\n",
       "\n",
       "    .dataframe thead th {\n",
       "        text-align: right;\n",
       "    }\n",
       "</style>\n",
       "<table border=\"1\" class=\"dataframe\">\n",
       "  <thead>\n",
       "    <tr style=\"text-align: right;\">\n",
       "      <th></th>\n",
       "      <th>Patient</th>\n",
       "      <th>Noun Before</th>\n",
       "      <th>1st Body Before</th>\n",
       "      <th>ConciousWord Before</th>\n",
       "      <th>Verb Before</th>\n",
       "      <th>Past Before</th>\n",
       "      <th>Present Before</th>\n",
       "      <th>Future Before</th>\n",
       "      <th>Other Before</th>\n",
       "      <th>Adjective Before</th>\n",
       "      <th>...</th>\n",
       "      <th>Verb Ratio</th>\n",
       "      <th>Past Ratio</th>\n",
       "      <th>Present Ratio</th>\n",
       "      <th>Future Ratio</th>\n",
       "      <th>Other Ratio</th>\n",
       "      <th>Adjective Ratio</th>\n",
       "      <th>Adverb Ratio</th>\n",
       "      <th>Infinitive Ratio</th>\n",
       "      <th>Emotion Ratio</th>\n",
       "      <th>Name Ratio</th>\n",
       "    </tr>\n",
       "  </thead>\n",
       "  <tbody>\n",
       "    <tr>\n",
       "      <td>0</td>\n",
       "      <td>0</td>\n",
       "      <td>0.225</td>\n",
       "      <td>0.077</td>\n",
       "      <td>0.031</td>\n",
       "      <td>0.187</td>\n",
       "      <td>0.112</td>\n",
       "      <td>0.075</td>\n",
       "      <td>0.000</td>\n",
       "      <td>0.311</td>\n",
       "      <td>0.059</td>\n",
       "      <td>...</td>\n",
       "      <td>1.191</td>\n",
       "      <td>0.991</td>\n",
       "      <td>2.206</td>\n",
       "      <td>0.000</td>\n",
       "      <td>1.280</td>\n",
       "      <td>1.341</td>\n",
       "      <td>0.778</td>\n",
       "      <td>0.906</td>\n",
       "      <td>1.625</td>\n",
       "      <td>0.667</td>\n",
       "    </tr>\n",
       "    <tr>\n",
       "      <td>1</td>\n",
       "      <td>1</td>\n",
       "      <td>0.217</td>\n",
       "      <td>0.114</td>\n",
       "      <td>0.010</td>\n",
       "      <td>0.189</td>\n",
       "      <td>0.100</td>\n",
       "      <td>0.071</td>\n",
       "      <td>0.018</td>\n",
       "      <td>0.243</td>\n",
       "      <td>0.044</td>\n",
       "      <td>...</td>\n",
       "      <td>1.005</td>\n",
       "      <td>1.010</td>\n",
       "      <td>1.000</td>\n",
       "      <td>1.000</td>\n",
       "      <td>0.946</td>\n",
       "      <td>0.978</td>\n",
       "      <td>1.131</td>\n",
       "      <td>0.857</td>\n",
       "      <td>0.800</td>\n",
       "      <td>1.000</td>\n",
       "    </tr>\n",
       "    <tr>\n",
       "      <td>2</td>\n",
       "      <td>2</td>\n",
       "      <td>0.156</td>\n",
       "      <td>0.096</td>\n",
       "      <td>0.001</td>\n",
       "      <td>0.186</td>\n",
       "      <td>0.131</td>\n",
       "      <td>0.050</td>\n",
       "      <td>0.014</td>\n",
       "      <td>0.279</td>\n",
       "      <td>0.036</td>\n",
       "      <td>...</td>\n",
       "      <td>0.903</td>\n",
       "      <td>0.766</td>\n",
       "      <td>1.429</td>\n",
       "      <td>1.750</td>\n",
       "      <td>1.187</td>\n",
       "      <td>1.800</td>\n",
       "      <td>1.109</td>\n",
       "      <td>1.107</td>\n",
       "      <td>3.333</td>\n",
       "      <td>0.300</td>\n",
       "    </tr>\n",
       "    <tr>\n",
       "      <td>3</td>\n",
       "      <td>3</td>\n",
       "      <td>0.168</td>\n",
       "      <td>0.091</td>\n",
       "      <td>0.008</td>\n",
       "      <td>0.171</td>\n",
       "      <td>0.104</td>\n",
       "      <td>0.053</td>\n",
       "      <td>0.014</td>\n",
       "      <td>0.281</td>\n",
       "      <td>0.068</td>\n",
       "      <td>...</td>\n",
       "      <td>1.082</td>\n",
       "      <td>1.010</td>\n",
       "      <td>1.152</td>\n",
       "      <td>1.400</td>\n",
       "      <td>1.115</td>\n",
       "      <td>1.511</td>\n",
       "      <td>0.918</td>\n",
       "      <td>0.839</td>\n",
       "      <td>2.500</td>\n",
       "      <td>1.125</td>\n",
       "    </tr>\n",
       "    <tr>\n",
       "      <td>4</td>\n",
       "      <td>4</td>\n",
       "      <td>0.242</td>\n",
       "      <td>0.094</td>\n",
       "      <td>0.015</td>\n",
       "      <td>0.156</td>\n",
       "      <td>0.099</td>\n",
       "      <td>0.044</td>\n",
       "      <td>0.013</td>\n",
       "      <td>0.252</td>\n",
       "      <td>0.068</td>\n",
       "      <td>...</td>\n",
       "      <td>1.020</td>\n",
       "      <td>0.971</td>\n",
       "      <td>0.863</td>\n",
       "      <td>1.182</td>\n",
       "      <td>0.920</td>\n",
       "      <td>1.333</td>\n",
       "      <td>0.861</td>\n",
       "      <td>1.632</td>\n",
       "      <td>0.778</td>\n",
       "      <td>1.800</td>\n",
       "    </tr>\n",
       "  </tbody>\n",
       "</table>\n",
       "<p>5 rows × 40 columns</p>\n",
       "</div>"
      ],
      "text/plain": [
       "   Patient  Noun Before  1st Body Before  ConciousWord Before  Verb Before  \\\n",
       "0        0        0.225            0.077                0.031        0.187   \n",
       "1        1        0.217            0.114                0.010        0.189   \n",
       "2        2        0.156            0.096                0.001        0.186   \n",
       "3        3        0.168            0.091                0.008        0.171   \n",
       "4        4        0.242            0.094                0.015        0.156   \n",
       "\n",
       "   Past Before  Present Before  Future Before  Other Before  Adjective Before  \\\n",
       "0        0.112           0.075          0.000         0.311             0.059   \n",
       "1        0.100           0.071          0.018         0.243             0.044   \n",
       "2        0.131           0.050          0.014         0.279             0.036   \n",
       "3        0.104           0.053          0.014         0.281             0.068   \n",
       "4        0.099           0.044          0.013         0.252             0.068   \n",
       "\n",
       "   ...  Verb Ratio  Past Ratio  Present Ratio  Future Ratio  Other Ratio  \\\n",
       "0  ...       1.191       0.991          2.206         0.000        1.280   \n",
       "1  ...       1.005       1.010          1.000         1.000        0.946   \n",
       "2  ...       0.903       0.766          1.429         1.750        1.187   \n",
       "3  ...       1.082       1.010          1.152         1.400        1.115   \n",
       "4  ...       1.020       0.971          0.863         1.182        0.920   \n",
       "\n",
       "   Adjective Ratio  Adverb Ratio  Infinitive Ratio  Emotion Ratio  Name Ratio  \n",
       "0            1.341         0.778             0.906          1.625       0.667  \n",
       "1            0.978         1.131             0.857          0.800       1.000  \n",
       "2            1.800         1.109             1.107          3.333       0.300  \n",
       "3            1.511         0.918             0.839          2.500       1.125  \n",
       "4            1.333         0.861             1.632          0.778       1.800  \n",
       "\n",
       "[5 rows x 40 columns]"
      ]
     },
     "execution_count": 27,
     "metadata": {},
     "output_type": "execute_result"
    }
   ],
   "source": [
    "patientsdf= pd.read_excel(\"before_and_after.xlsx\")\n",
    "if \"Unnamed: 0\" in patientsdf.columns:\n",
    "    patientsdf = patientsdf.drop(columns=\"Unnamed: 0\")\n",
    "patientsdf.head()"
   ]
  },
  {
   "cell_type": "code",
   "execution_count": 125,
   "metadata": {},
   "outputs": [],
   "source": [
    "def RatioEachGroupInFile(file):\n",
    "    \n",
    "    file_groups = {}\n",
    "    \n",
    "    for key,val in groups.items():\n",
    "         file_groups[key] = float( '%.3f' % ( sum([sum(1 for _ in re.finditer(r'\\b%s\\b' % re.escape(word), file)) for word in val]) / len(file.split()) ) )\n",
    "   \n",
    "    return file_groups"
   ]
  },
  {
   "cell_type": "code",
   "execution_count": 126,
   "metadata": {},
   "outputs": [
    {
     "data": {
      "text/plain": [
       "Index(['Noun Before', '1st Body Before', 'ConciousWord Before', 'Verb Before',\n",
       "       'Past Before', 'Present Before', 'Future Before', 'Other Before',\n",
       "       'Adjective Before', 'Adverb Before', 'Infinitive Before',\n",
       "       'Emotion Before', 'Name Before'],\n",
       "      dtype='object')"
      ]
     },
     "execution_count": 126,
     "metadata": {},
     "output_type": "execute_result"
    }
   ],
   "source": [
    "patientsdf.columns[1:14]"
   ]
  },
  {
   "cell_type": "code",
   "execution_count": 127,
   "metadata": {},
   "outputs": [],
   "source": [
    "#sum of words from each group in files before treatment\n",
    "\n",
    "for i_patient,file in enumerate(beforeArr):\n",
    "    \n",
    "    ratio_each_group_in_file= RatioEachGroupInFile(file)\n",
    "    for col in patientsdf.columns[1:14]:\n",
    "        key= col.split()\n",
    "        key = \" \".join(key[0:-1])\n",
    "        patientsdf.loc[i_patient, col] = ratio_each_group_in_file.get(key,0) "
   ]
  },
  {
   "cell_type": "code",
   "execution_count": 128,
   "metadata": {},
   "outputs": [],
   "source": [
    "#sum of words from each group in files after treatment\n",
    "\n",
    "for i_patient,file in enumerate(afterArr):\n",
    "    \n",
    "    ratio_each_group_in_file= RatioEachGroupInFile(file)\n",
    "    for col in patientsdf.columns[14:27]:\n",
    "        key= col.split()\n",
    "        key = \" \".join(key[0:-1])\n",
    "        patientsdf.loc[i_patient, col] = ratio_each_group_in_file.get(key,0)"
   ]
  },
  {
   "cell_type": "code",
   "execution_count": 129,
   "metadata": {},
   "outputs": [],
   "source": [
    "def Value_Ratio(a,b):\n",
    "    if b==0:\n",
    "        return None\n",
    "    return float('%.3f' % (a/b))"
   ]
  },
  {
   "cell_type": "code",
   "execution_count": 130,
   "metadata": {},
   "outputs": [],
   "source": [
    "#The ratio of words from each group before and after treatment for each patient\n",
    "for i_patient in range(0,len(afterArr)):\n",
    "   \n",
    "    for col in patientsdf.columns[27:40]:\n",
    "        key= col.split()\n",
    "        key = \" \".join(key[0:-1])\n",
    "        patientsdf.loc[i_patient, col] = Value_Ratio(patientsdf[key+' '+'Before'][i_patient],patientsdf[key+' '+'After'][i_patient])     "
   ]
  },
  {
   "cell_type": "code",
   "execution_count": 131,
   "metadata": {},
   "outputs": [
    {
     "data": {
      "text/html": [
       "<div>\n",
       "<style scoped>\n",
       "    .dataframe tbody tr th:only-of-type {\n",
       "        vertical-align: middle;\n",
       "    }\n",
       "\n",
       "    .dataframe tbody tr th {\n",
       "        vertical-align: top;\n",
       "    }\n",
       "\n",
       "    .dataframe thead th {\n",
       "        text-align: right;\n",
       "    }\n",
       "</style>\n",
       "<table border=\"1\" class=\"dataframe\">\n",
       "  <thead>\n",
       "    <tr style=\"text-align: right;\">\n",
       "      <th></th>\n",
       "      <th>Patient</th>\n",
       "      <th>Noun Before</th>\n",
       "      <th>1st Body Before</th>\n",
       "      <th>ConciousWord Before</th>\n",
       "      <th>Verb Before</th>\n",
       "      <th>Past Before</th>\n",
       "      <th>Present Before</th>\n",
       "      <th>Future Before</th>\n",
       "      <th>Other Before</th>\n",
       "      <th>Adjective Before</th>\n",
       "      <th>...</th>\n",
       "      <th>Verb Ratio</th>\n",
       "      <th>Past Ratio</th>\n",
       "      <th>Present Ratio</th>\n",
       "      <th>Future Ratio</th>\n",
       "      <th>Other Ratio</th>\n",
       "      <th>Adjective Ratio</th>\n",
       "      <th>Adverb Ratio</th>\n",
       "      <th>Infinitive Ratio</th>\n",
       "      <th>Emotion Ratio</th>\n",
       "      <th>Name Ratio</th>\n",
       "    </tr>\n",
       "  </thead>\n",
       "  <tbody>\n",
       "    <tr>\n",
       "      <td>0</td>\n",
       "      <td>0</td>\n",
       "      <td>0.225</td>\n",
       "      <td>0.077</td>\n",
       "      <td>0.031</td>\n",
       "      <td>0.187</td>\n",
       "      <td>0.112</td>\n",
       "      <td>0.075</td>\n",
       "      <td>0.000</td>\n",
       "      <td>0.311</td>\n",
       "      <td>0.059</td>\n",
       "      <td>...</td>\n",
       "      <td>1.191</td>\n",
       "      <td>0.991</td>\n",
       "      <td>2.206</td>\n",
       "      <td>0.000</td>\n",
       "      <td>1.280</td>\n",
       "      <td>1.341</td>\n",
       "      <td>0.778</td>\n",
       "      <td>0.906</td>\n",
       "      <td>1.625</td>\n",
       "      <td>0.667</td>\n",
       "    </tr>\n",
       "    <tr>\n",
       "      <td>1</td>\n",
       "      <td>1</td>\n",
       "      <td>0.217</td>\n",
       "      <td>0.114</td>\n",
       "      <td>0.010</td>\n",
       "      <td>0.189</td>\n",
       "      <td>0.100</td>\n",
       "      <td>0.071</td>\n",
       "      <td>0.018</td>\n",
       "      <td>0.243</td>\n",
       "      <td>0.044</td>\n",
       "      <td>...</td>\n",
       "      <td>1.005</td>\n",
       "      <td>1.010</td>\n",
       "      <td>1.000</td>\n",
       "      <td>1.000</td>\n",
       "      <td>0.946</td>\n",
       "      <td>0.978</td>\n",
       "      <td>1.131</td>\n",
       "      <td>0.857</td>\n",
       "      <td>0.800</td>\n",
       "      <td>1.000</td>\n",
       "    </tr>\n",
       "    <tr>\n",
       "      <td>2</td>\n",
       "      <td>2</td>\n",
       "      <td>0.156</td>\n",
       "      <td>0.096</td>\n",
       "      <td>0.001</td>\n",
       "      <td>0.186</td>\n",
       "      <td>0.131</td>\n",
       "      <td>0.050</td>\n",
       "      <td>0.014</td>\n",
       "      <td>0.279</td>\n",
       "      <td>0.036</td>\n",
       "      <td>...</td>\n",
       "      <td>0.903</td>\n",
       "      <td>0.766</td>\n",
       "      <td>1.429</td>\n",
       "      <td>1.750</td>\n",
       "      <td>1.187</td>\n",
       "      <td>1.800</td>\n",
       "      <td>1.109</td>\n",
       "      <td>1.107</td>\n",
       "      <td>3.333</td>\n",
       "      <td>0.300</td>\n",
       "    </tr>\n",
       "    <tr>\n",
       "      <td>3</td>\n",
       "      <td>3</td>\n",
       "      <td>0.168</td>\n",
       "      <td>0.091</td>\n",
       "      <td>0.008</td>\n",
       "      <td>0.171</td>\n",
       "      <td>0.104</td>\n",
       "      <td>0.053</td>\n",
       "      <td>0.014</td>\n",
       "      <td>0.281</td>\n",
       "      <td>0.068</td>\n",
       "      <td>...</td>\n",
       "      <td>1.082</td>\n",
       "      <td>1.010</td>\n",
       "      <td>1.152</td>\n",
       "      <td>1.400</td>\n",
       "      <td>1.115</td>\n",
       "      <td>1.511</td>\n",
       "      <td>0.918</td>\n",
       "      <td>0.839</td>\n",
       "      <td>2.500</td>\n",
       "      <td>1.125</td>\n",
       "    </tr>\n",
       "    <tr>\n",
       "      <td>4</td>\n",
       "      <td>4</td>\n",
       "      <td>0.242</td>\n",
       "      <td>0.094</td>\n",
       "      <td>0.015</td>\n",
       "      <td>0.156</td>\n",
       "      <td>0.099</td>\n",
       "      <td>0.044</td>\n",
       "      <td>0.013</td>\n",
       "      <td>0.252</td>\n",
       "      <td>0.068</td>\n",
       "      <td>...</td>\n",
       "      <td>1.020</td>\n",
       "      <td>0.971</td>\n",
       "      <td>0.863</td>\n",
       "      <td>1.182</td>\n",
       "      <td>0.920</td>\n",
       "      <td>1.333</td>\n",
       "      <td>0.861</td>\n",
       "      <td>1.632</td>\n",
       "      <td>0.778</td>\n",
       "      <td>1.800</td>\n",
       "    </tr>\n",
       "  </tbody>\n",
       "</table>\n",
       "<p>5 rows × 40 columns</p>\n",
       "</div>"
      ],
      "text/plain": [
       "   Patient  Noun Before  1st Body Before  ConciousWord Before  Verb Before  \\\n",
       "0        0        0.225            0.077                0.031        0.187   \n",
       "1        1        0.217            0.114                0.010        0.189   \n",
       "2        2        0.156            0.096                0.001        0.186   \n",
       "3        3        0.168            0.091                0.008        0.171   \n",
       "4        4        0.242            0.094                0.015        0.156   \n",
       "\n",
       "   Past Before  Present Before  Future Before  Other Before  Adjective Before  \\\n",
       "0        0.112           0.075          0.000         0.311             0.059   \n",
       "1        0.100           0.071          0.018         0.243             0.044   \n",
       "2        0.131           0.050          0.014         0.279             0.036   \n",
       "3        0.104           0.053          0.014         0.281             0.068   \n",
       "4        0.099           0.044          0.013         0.252             0.068   \n",
       "\n",
       "   ...  Verb Ratio  Past Ratio  Present Ratio  Future Ratio  Other Ratio  \\\n",
       "0  ...       1.191       0.991          2.206         0.000        1.280   \n",
       "1  ...       1.005       1.010          1.000         1.000        0.946   \n",
       "2  ...       0.903       0.766          1.429         1.750        1.187   \n",
       "3  ...       1.082       1.010          1.152         1.400        1.115   \n",
       "4  ...       1.020       0.971          0.863         1.182        0.920   \n",
       "\n",
       "   Adjective Ratio  Adverb Ratio  Infinitive Ratio  Emotion Ratio  Name Ratio  \n",
       "0            1.341         0.778             0.906          1.625       0.667  \n",
       "1            0.978         1.131             0.857          0.800       1.000  \n",
       "2            1.800         1.109             1.107          3.333       0.300  \n",
       "3            1.511         0.918             0.839          2.500       1.125  \n",
       "4            1.333         0.861             1.632          0.778       1.800  \n",
       "\n",
       "[5 rows x 40 columns]"
      ]
     },
     "execution_count": 131,
     "metadata": {},
     "output_type": "execute_result"
    }
   ],
   "source": [
    "#some words before,some words after, and ratio between them - for each patient\n",
    "patientsdf.head()"
   ]
  },
  {
   "cell_type": "code",
   "execution_count": 20,
   "metadata": {},
   "outputs": [],
   "source": [
    "patientsdf.to_excel(\"before_and_after.xlsx\")"
   ]
  },
  {
   "cell_type": "markdown",
   "metadata": {},
   "source": [
    "#### Average group  <br>- the prevalence of each group in the files "
   ]
  },
  {
   "cell_type": "code",
   "execution_count": 21,
   "metadata": {},
   "outputs": [],
   "source": [
    "columns_total= patientsdf.sum(axis=0)"
   ]
  },
  {
   "cell_type": "code",
   "execution_count": 22,
   "metadata": {},
   "outputs": [
    {
     "data": {
      "text/html": [
       "<div>\n",
       "<style scoped>\n",
       "    .dataframe tbody tr th:only-of-type {\n",
       "        vertical-align: middle;\n",
       "    }\n",
       "\n",
       "    .dataframe tbody tr th {\n",
       "        vertical-align: top;\n",
       "    }\n",
       "\n",
       "    .dataframe thead th {\n",
       "        text-align: right;\n",
       "    }\n",
       "</style>\n",
       "<table border=\"1\" class=\"dataframe\">\n",
       "  <thead>\n",
       "    <tr style=\"text-align: right;\">\n",
       "      <th></th>\n",
       "      <th>Group</th>\n",
       "      <th>Total Before</th>\n",
       "      <th>Total After</th>\n",
       "      <th>Total Ratio</th>\n",
       "    </tr>\n",
       "  </thead>\n",
       "  <tbody>\n",
       "    <tr>\n",
       "      <th>0</th>\n",
       "      <td>Future</td>\n",
       "      <td>0.014</td>\n",
       "      <td>0.012</td>\n",
       "      <td>1.167</td>\n",
       "    </tr>\n",
       "    <tr>\n",
       "      <th>1</th>\n",
       "      <td>Adjective</td>\n",
       "      <td>0.053</td>\n",
       "      <td>0.049</td>\n",
       "      <td>1.082</td>\n",
       "    </tr>\n",
       "    <tr>\n",
       "      <th>2</th>\n",
       "      <td>Present</td>\n",
       "      <td>0.051</td>\n",
       "      <td>0.048</td>\n",
       "      <td>1.062</td>\n",
       "    </tr>\n",
       "    <tr>\n",
       "      <th>3</th>\n",
       "      <td>Verb</td>\n",
       "      <td>0.191</td>\n",
       "      <td>0.183</td>\n",
       "      <td>1.044</td>\n",
       "    </tr>\n",
       "    <tr>\n",
       "      <th>4</th>\n",
       "      <td>Infinitive</td>\n",
       "      <td>0.027</td>\n",
       "      <td>0.026</td>\n",
       "      <td>1.038</td>\n",
       "    </tr>\n",
       "    <tr>\n",
       "      <th>5</th>\n",
       "      <td>1st Body</td>\n",
       "      <td>0.11</td>\n",
       "      <td>0.107</td>\n",
       "      <td>1.028</td>\n",
       "    </tr>\n",
       "    <tr>\n",
       "      <th>6</th>\n",
       "      <td>Past</td>\n",
       "      <td>0.129</td>\n",
       "      <td>0.127</td>\n",
       "      <td>1.016</td>\n",
       "    </tr>\n",
       "    <tr>\n",
       "      <th>7</th>\n",
       "      <td>Adverb</td>\n",
       "      <td>0.092</td>\n",
       "      <td>0.091</td>\n",
       "      <td>1.011</td>\n",
       "    </tr>\n",
       "    <tr>\n",
       "      <th>8</th>\n",
       "      <td>Other</td>\n",
       "      <td>0.261</td>\n",
       "      <td>0.264</td>\n",
       "      <td>0.989</td>\n",
       "    </tr>\n",
       "    <tr>\n",
       "      <th>9</th>\n",
       "      <td>Noun</td>\n",
       "      <td>0.206</td>\n",
       "      <td>0.212</td>\n",
       "      <td>0.972</td>\n",
       "    </tr>\n",
       "    <tr>\n",
       "      <th>10</th>\n",
       "      <td>Emotion</td>\n",
       "      <td>0.01</td>\n",
       "      <td>0.011</td>\n",
       "      <td>0.909</td>\n",
       "    </tr>\n",
       "    <tr>\n",
       "      <th>11</th>\n",
       "      <td>Name</td>\n",
       "      <td>0.011</td>\n",
       "      <td>0.015</td>\n",
       "      <td>0.733</td>\n",
       "    </tr>\n",
       "    <tr>\n",
       "      <th>12</th>\n",
       "      <td>ConciousWord</td>\n",
       "      <td>0.007</td>\n",
       "      <td>0.011</td>\n",
       "      <td>0.636</td>\n",
       "    </tr>\n",
       "  </tbody>\n",
       "</table>\n",
       "</div>"
      ],
      "text/plain": [
       "           Group Total Before Total After Total Ratio\n",
       "0         Future        0.014       0.012       1.167\n",
       "1      Adjective        0.053       0.049       1.082\n",
       "2        Present        0.051       0.048       1.062\n",
       "3           Verb        0.191       0.183       1.044\n",
       "4     Infinitive        0.027       0.026       1.038\n",
       "5       1st Body         0.11       0.107       1.028\n",
       "6           Past        0.129       0.127       1.016\n",
       "7         Adverb        0.092       0.091       1.011\n",
       "8          Other        0.261       0.264       0.989\n",
       "9           Noun        0.206       0.212       0.972\n",
       "10       Emotion         0.01       0.011       0.909\n",
       "11          Name        0.011       0.015       0.733\n",
       "12  ConciousWord        0.007       0.011       0.636"
      ]
     },
     "execution_count": 22,
     "metadata": {},
     "output_type": "execute_result"
    }
   ],
   "source": [
    "#The ratio between before and after treatment for each group .\n",
    "\n",
    "result=[]\n",
    "for i,group in enumerate(df.columns[2:]):\n",
    "    total_before = float( '%.3f' %(columns_total[i+1]/len(beforeArr) )) \n",
    "    total_after = float( '%.3f' %(columns_total[i+1+13]/len(afterArr) ))\n",
    "    result.append(tuple([group, total_before, total_after, float( '%.3f' %(total_before/total_after))]))\n",
    "\n",
    "total_ratio_df = pd.DataFrame(columns=[\"Group\",\"Total Before\",\"Total After\",\"Total Ratio\"],index=[i for i in range(len(groups.keys()))])\n",
    "for i,ratio in enumerate(sorted([tup[3] for tup in result],reverse=True)):\n",
    "    total_ratio_df.iloc[i] = [tup for tup in result if tup[3] == ratio][0]\n",
    "            \n",
    "total_ratio_df"
   ]
  },
  {
   "cell_type": "markdown",
   "metadata": {},
   "source": [
    "#### We conclude that the use of conciousWords, emotion and names is higher in patients after treatment. On the other hand, pre-treatment patients are more likely to speak in future tense, and use adjective."
   ]
  },
  {
   "cell_type": "markdown",
   "metadata": {},
   "source": [
    "<br>"
   ]
  },
  {
   "cell_type": "markdown",
   "metadata": {},
   "source": [
    "### paired sample t-test"
   ]
  },
  {
   "cell_type": "code",
   "execution_count": 142,
   "metadata": {},
   "outputs": [
    {
     "name": "stdout",
     "output_type": "stream",
     "text": [
      "Noun \n",
      "\t Ttest_relResult(statistic=-0.8876963278339951, pvalue=0.3858037998547559) \n",
      "\n",
      "\n",
      "\n",
      "1st Body \n",
      "\t Ttest_relResult(statistic=0.7920084838546424, pvalue=0.43813290594679144) \n",
      "\n",
      "\n",
      "\n",
      "We are rejecting null hypothesis of group:\t ConciousWord \n",
      "\n",
      "\n",
      "\n",
      "Verb \n",
      "\t Ttest_relResult(statistic=1.5415794517785657, pvalue=0.13966659337986873) \n",
      "\n",
      "\n",
      "\n",
      "Past \n",
      "\t Ttest_relResult(statistic=0.258116911523396, pvalue=0.7990918993466652) \n",
      "\n",
      "\n",
      "\n",
      "Present \n",
      "\t Ttest_relResult(statistic=0.6557294634948352, pvalue=0.5198602346450306) \n",
      "\n",
      "\n",
      "\n",
      "Future \n",
      "\t Ttest_relResult(statistic=1.1727468271726136, pvalue=0.25539145671537483) \n",
      "\n",
      "\n",
      "\n",
      "Other \n",
      "\t Ttest_relResult(statistic=-0.2961513538363088, pvalue=0.7703271684274191) \n",
      "\n",
      "\n",
      "\n",
      "Adjective \n",
      "\t Ttest_relResult(statistic=1.938970737913724, pvalue=0.06750299921741798) \n",
      "\n",
      "\n",
      "\n",
      "Adverb \n",
      "\t Ttest_relResult(statistic=0.5218254906039456, pvalue=0.607822179327818) \n",
      "\n",
      "\n",
      "\n",
      "Infinitive \n",
      "\t Ttest_relResult(statistic=0.6091773445145865, pvalue=0.5496224302863619) \n",
      "\n",
      "\n",
      "\n",
      "Emotion \n",
      "\t Ttest_relResult(statistic=-0.7542921084101732, pvalue=0.4599210858600682) \n",
      "\n",
      "\n",
      "\n",
      "Name \n",
      "\t Ttest_relResult(statistic=-1.828692357753088, pvalue=0.08318843139889721) \n",
      "\n",
      "\n",
      "\n"
     ]
    }
   ],
   "source": [
    "from scipy.stats import ttest_rel\n",
    "\n",
    "for col in df.columns[2:]:\n",
    "    ttest_pair = ttest_rel(patientsdf[col+\" Before\"], patientsdf[col+\" After\"])\n",
    "    if ttest_pair[1] > 0.05:\n",
    "        print(col,\"\\n\\t\",ttest_pair,\"\\n\\n\\n\")\n",
    "    else:\n",
    "        print(\"We are rejecting null hypothesis of group:\\t\",col,\"\\n\\n\\n\")"
   ]
  },
  {
   "cell_type": "markdown",
   "metadata": {},
   "source": [
    "<br>"
   ]
  },
  {
   "cell_type": "markdown",
   "metadata": {},
   "source": [
    "<br>"
   ]
  },
  {
   "cell_type": "markdown",
   "metadata": {},
   "source": [
    "<br>"
   ]
  },
  {
   "cell_type": "markdown",
   "metadata": {},
   "source": [
    "## Distances dataframe  <br>- including the distance between each word to each group by using fasttext"
   ]
  },
  {
   "cell_type": "code",
   "execution_count": 271,
   "metadata": {},
   "outputs": [],
   "source": [
    "from gensim.models.wrappers import FastText\n",
    "\n",
    "m = FastText.load_fasttext_format(\"wiki.he\")  "
   ]
  },
  {
   "cell_type": "code",
   "execution_count": 272,
   "metadata": {},
   "outputs": [],
   "source": [
    "import pyemd\n",
    "from pyemd import emd\n",
    "from gensim.similarities import WmdSimilarity\n",
    "m.init_sims(replace=True) "
   ]
  },
  {
   "cell_type": "code",
   "execution_count": 273,
   "metadata": {},
   "outputs": [],
   "source": [
    "def RowInformation(word):\n",
    "    dist_each_group_from_w = []\n",
    "    test_group = []\n",
    "    for col in df.columns[2:]:\n",
    "        val = groups[col]\n",
    "        if word in val:\n",
    "            test_group.append(col)\n",
    "            val.remove(word)\n",
    "        dist_each_group_from_w.append(tuple([col,m.wmdistance([word],val)]))\n",
    "    \n",
    "    #dist from each group\n",
    "    info_result = [tup[1] for tup in dist_each_group_from_w]\n",
    "    min_dist = min(info_result) #The smaller the distance, the similarity is higher \n",
    "    \n",
    "    #The word being tested\n",
    "    info_result.insert(0,word)\n",
    "    \n",
    "    #The appropriate groups\n",
    "    info_result.append(test_group)\n",
    "    \n",
    "    #The pred group\n",
    "    pred_group= [tup[0] for tup in dist_each_group_from_w if tup[1]==min_dist]\n",
    "    info_result.append(pred_group)\n",
    "    \n",
    "    return  info_result #All information for this word, we will add row to dataframe"
   ]
  },
  {
   "cell_type": "code",
   "execution_count": 274,
   "metadata": {},
   "outputs": [],
   "source": [
    "dist_df= pd.DataFrame(columns=['word','Noun-dist','1st Body-dist','ConciousWord-dist', 'Verb-dist', 'Past-dist',\n",
    "       'Present-dist', 'Future-dist', 'Other-dist', 'Adjective-dist', 'Adverb-dist', 'Infinitive-dist',\n",
    "       'Emotion-dist', 'Name-dist', 'test group', 'pred group'], index=df.index)\n",
    "\n",
    "for i,word in enumerate(df['word']):\n",
    "    dist_df.iloc[i] = RowInformation(word)"
   ]
  },
  {
   "cell_type": "code",
   "execution_count": 275,
   "metadata": {},
   "outputs": [],
   "source": [
    "dist_df.to_excel(\"distWord.xlsx\")"
   ]
  },
  {
   "cell_type": "code",
   "execution_count": 276,
   "metadata": {},
   "outputs": [
    {
     "data": {
      "text/html": [
       "<div>\n",
       "<style scoped>\n",
       "    .dataframe tbody tr th:only-of-type {\n",
       "        vertical-align: middle;\n",
       "    }\n",
       "\n",
       "    .dataframe tbody tr th {\n",
       "        vertical-align: top;\n",
       "    }\n",
       "\n",
       "    .dataframe thead th {\n",
       "        text-align: right;\n",
       "    }\n",
       "</style>\n",
       "<table border=\"1\" class=\"dataframe\">\n",
       "  <thead>\n",
       "    <tr style=\"text-align: right;\">\n",
       "      <th></th>\n",
       "      <th>word</th>\n",
       "      <th>Noun-dist</th>\n",
       "      <th>1st Body-dist</th>\n",
       "      <th>ConciousWord-dist</th>\n",
       "      <th>Verb-dist</th>\n",
       "      <th>Past-dist</th>\n",
       "      <th>Present-dist</th>\n",
       "      <th>Future-dist</th>\n",
       "      <th>Other-dist</th>\n",
       "      <th>Adjective-dist</th>\n",
       "      <th>Adverb-dist</th>\n",
       "      <th>Infinitive-dist</th>\n",
       "      <th>Emotion-dist</th>\n",
       "      <th>Name-dist</th>\n",
       "      <th>test group</th>\n",
       "      <th>pred group</th>\n",
       "    </tr>\n",
       "  </thead>\n",
       "  <tbody>\n",
       "    <tr>\n",
       "      <th>0</th>\n",
       "      <td>conciousword</td>\n",
       "      <td>1.024726</td>\n",
       "      <td>0.865388</td>\n",
       "      <td>1.023177</td>\n",
       "      <td>0.977810</td>\n",
       "      <td>0.956016</td>\n",
       "      <td>1.024793</td>\n",
       "      <td>0.983729</td>\n",
       "      <td>1.015281</td>\n",
       "      <td>1.028040</td>\n",
       "      <td>1.052661</td>\n",
       "      <td>1.029529</td>\n",
       "      <td>0.992928</td>\n",
       "      <td>1.020889</td>\n",
       "      <td>[]</td>\n",
       "      <td>['1st Body']</td>\n",
       "    </tr>\n",
       "    <tr>\n",
       "      <th>1</th>\n",
       "      <td>pst1fst</td>\n",
       "      <td>1.080852</td>\n",
       "      <td>0.947519</td>\n",
       "      <td>1.075936</td>\n",
       "      <td>1.041244</td>\n",
       "      <td>1.023871</td>\n",
       "      <td>1.081393</td>\n",
       "      <td>1.043694</td>\n",
       "      <td>1.068862</td>\n",
       "      <td>1.079621</td>\n",
       "      <td>1.104395</td>\n",
       "      <td>1.093289</td>\n",
       "      <td>1.052314</td>\n",
       "      <td>1.072672</td>\n",
       "      <td>[]</td>\n",
       "      <td>['1st Body']</td>\n",
       "    </tr>\n",
       "    <tr>\n",
       "      <th>2</th>\n",
       "      <td>לא</td>\n",
       "      <td>1.396352</td>\n",
       "      <td>1.321483</td>\n",
       "      <td>1.394261</td>\n",
       "      <td>1.369859</td>\n",
       "      <td>1.358517</td>\n",
       "      <td>1.402034</td>\n",
       "      <td>1.365966</td>\n",
       "      <td>1.385281</td>\n",
       "      <td>1.404303</td>\n",
       "      <td>1.401154</td>\n",
       "      <td>1.360363</td>\n",
       "      <td>1.385373</td>\n",
       "      <td>1.393803</td>\n",
       "      <td>['Other']</td>\n",
       "      <td>['1st Body']</td>\n",
       "    </tr>\n",
       "    <tr>\n",
       "      <th>3</th>\n",
       "      <td>זה</td>\n",
       "      <td>1.427666</td>\n",
       "      <td>1.335957</td>\n",
       "      <td>1.404164</td>\n",
       "      <td>1.394427</td>\n",
       "      <td>1.380367</td>\n",
       "      <td>1.434026</td>\n",
       "      <td>1.389433</td>\n",
       "      <td>1.403926</td>\n",
       "      <td>1.432238</td>\n",
       "      <td>1.432984</td>\n",
       "      <td>1.438741</td>\n",
       "      <td>1.405028</td>\n",
       "      <td>1.415064</td>\n",
       "      <td>['Other']</td>\n",
       "      <td>['1st Body']</td>\n",
       "    </tr>\n",
       "    <tr>\n",
       "      <th>4</th>\n",
       "      <td>אני</td>\n",
       "      <td>1.391325</td>\n",
       "      <td>1.282952</td>\n",
       "      <td>1.369920</td>\n",
       "      <td>1.356715</td>\n",
       "      <td>1.347696</td>\n",
       "      <td>1.388988</td>\n",
       "      <td>1.345906</td>\n",
       "      <td>1.367902</td>\n",
       "      <td>1.383332</td>\n",
       "      <td>1.395155</td>\n",
       "      <td>1.412552</td>\n",
       "      <td>1.358124</td>\n",
       "      <td>1.376109</td>\n",
       "      <td>['1st Body']</td>\n",
       "      <td>['1st Body']</td>\n",
       "    </tr>\n",
       "  </tbody>\n",
       "</table>\n",
       "</div>"
      ],
      "text/plain": [
       "           word  Noun-dist  1st Body-dist  ConciousWord-dist  Verb-dist  \\\n",
       "0  conciousword   1.024726       0.865388           1.023177   0.977810   \n",
       "1       pst1fst   1.080852       0.947519           1.075936   1.041244   \n",
       "2            לא   1.396352       1.321483           1.394261   1.369859   \n",
       "3            זה   1.427666       1.335957           1.404164   1.394427   \n",
       "4           אני   1.391325       1.282952           1.369920   1.356715   \n",
       "\n",
       "   Past-dist  Present-dist  Future-dist  Other-dist  Adjective-dist  \\\n",
       "0   0.956016      1.024793     0.983729    1.015281        1.028040   \n",
       "1   1.023871      1.081393     1.043694    1.068862        1.079621   \n",
       "2   1.358517      1.402034     1.365966    1.385281        1.404303   \n",
       "3   1.380367      1.434026     1.389433    1.403926        1.432238   \n",
       "4   1.347696      1.388988     1.345906    1.367902        1.383332   \n",
       "\n",
       "   Adverb-dist  Infinitive-dist  Emotion-dist  Name-dist    test group  \\\n",
       "0     1.052661         1.029529      0.992928   1.020889            []   \n",
       "1     1.104395         1.093289      1.052314   1.072672            []   \n",
       "2     1.401154         1.360363      1.385373   1.393803     ['Other']   \n",
       "3     1.432984         1.438741      1.405028   1.415064     ['Other']   \n",
       "4     1.395155         1.412552      1.358124   1.376109  ['1st Body']   \n",
       "\n",
       "     pred group  \n",
       "0  ['1st Body']  \n",
       "1  ['1st Body']  \n",
       "2  ['1st Body']  \n",
       "3  ['1st Body']  \n",
       "4  ['1st Body']  "
      ]
     },
     "execution_count": 276,
     "metadata": {},
     "output_type": "execute_result"
    }
   ],
   "source": [
    "from ast import literal_eval\n",
    "\n",
    "dist_df = pd.read_excel(\"distWord.xlsx\")\n",
    "if \"Unnamed: 0\" in dist_df.columns:\n",
    "    dist_df = dist_df.drop(columns=\"Unnamed: 0\")\n",
    "dist_df.head()"
   ]
  },
  {
   "cell_type": "code",
   "execution_count": 277,
   "metadata": {},
   "outputs": [
    {
     "name": "stdout",
     "output_type": "stream",
     "text": [
      "The accuracy is:  0.09767092411720511\n"
     ]
    }
   ],
   "source": [
    "accuracy=0\n",
    "for i,test_group in enumerate(dist_df['test group']):\n",
    "    right =set(literal_eval(test_group)) & set(literal_eval(dist_df.loc[i,'pred group']))\n",
    "    if len(right)>0:\n",
    "        accuracy+=1\n",
    "        \n",
    "accuracy= accuracy/dist_df.shape[0]\n",
    "\n",
    "print(\"The accuracy is: \",accuracy)"
   ]
  },
  {
   "cell_type": "markdown",
   "metadata": {},
   "source": [
    "<br>"
   ]
  },
  {
   "cell_type": "markdown",
   "metadata": {},
   "source": [
    "<br>"
   ]
  },
  {
   "cell_type": "markdown",
   "metadata": {},
   "source": [
    "<br>"
   ]
  },
  {
   "cell_type": "markdown",
   "metadata": {},
   "source": [
    "## Average words dataframe <br>- including the prevalence of each word in files "
   ]
  },
  {
   "cell_type": "code",
   "execution_count": 275,
   "metadata": {},
   "outputs": [],
   "source": [
    "def Sum_WORDinFile(file,lenFile):\n",
    "\n",
    "    relative_prevalence_of_words_file=[]    \n",
    "    \n",
    "    for word in df[\"word\"]: \n",
    "        \n",
    "        countWord = sum(1 for _ in re.finditer(r'\\b%s\\b' % re.escape(word), file))\n",
    "        relative_prevalence_of_words_file.append(float(countWord/lenFile))\n",
    "\n",
    "\n",
    "    return relative_prevalence_of_words_file"
   ]
  },
  {
   "cell_type": "code",
   "execution_count": 276,
   "metadata": {},
   "outputs": [],
   "source": [
    "#relative prevalence from each word in each file before treatment\n",
    "filesBefore_relat_prev_words=[]\n",
    "\n",
    "for file in beforeArr:\n",
    "    \n",
    "    lenFile= len(file.split())\n",
    "    file_relat_prev= Sum_WORDinFile(file,lenFile)\n",
    "    filesBefore_relat_prev_words.append(file_relat_prev)\n",
    "    "
   ]
  },
  {
   "cell_type": "code",
   "execution_count": 277,
   "metadata": {},
   "outputs": [],
   "source": [
    "#avg for each word in before treatment files\n",
    "before_avrege_word=[]\n",
    "\n",
    "for i,word in enumerate(df['word']):\n",
    "    sum1=0.0\n",
    "    for relat in filesBefore_relat_prev_words:\n",
    "        sum1+=relat[i]\n",
    "    \n",
    "    before_avrege_word.append(float((sum1/len(beforeArr))))\n"
   ]
  },
  {
   "cell_type": "code",
   "execution_count": 278,
   "metadata": {},
   "outputs": [],
   "source": [
    "#relative prevalence from each word in each file after treatment\n",
    "filesAfter_relat_prev_words=[]\n",
    "\n",
    "for file in afterArr:\n",
    "    \n",
    "    lenFile= len(file.split())\n",
    "    file_relat_prev= Sum_WORDinFile(file,lenFile)\n",
    "    filesAfter_relat_prev_words.append(file_relat_prev)\n",
    "  "
   ]
  },
  {
   "cell_type": "code",
   "execution_count": 279,
   "metadata": {},
   "outputs": [],
   "source": [
    "#avg for each word in after treatment files\n",
    "after_avrege_word=[]\n",
    "\n",
    "for i,word in enumerate(df['word']):\n",
    "    sum1=0.0\n",
    "    for relat in filesAfter_relat_prev_words:\n",
    "        sum1=sum1+relat[i]\n",
    "\n",
    "    after_avrege_word.append(float((sum1/len(afterArr))))\n"
   ]
  },
  {
   "cell_type": "code",
   "execution_count": 280,
   "metadata": {},
   "outputs": [],
   "source": [
    "dictionary ={ \"word\": df['word'],\n",
    "             \"Avg word Before\": before_avrege_word,\n",
    "             \"Avg word After\": after_avrege_word,   \n",
    "}\n",
    "\n",
    "Avg_words_df= pd.DataFrame.from_dict(dictionary)\n",
    "Avg_words_df.to_excel(\"averageWord.xlsx\")"
   ]
  },
  {
   "cell_type": "code",
   "execution_count": 281,
   "metadata": {},
   "outputs": [
    {
     "data": {
      "text/html": [
       "<div>\n",
       "<style scoped>\n",
       "    .dataframe tbody tr th:only-of-type {\n",
       "        vertical-align: middle;\n",
       "    }\n",
       "\n",
       "    .dataframe tbody tr th {\n",
       "        vertical-align: top;\n",
       "    }\n",
       "\n",
       "    .dataframe thead th {\n",
       "        text-align: right;\n",
       "    }\n",
       "</style>\n",
       "<table border=\"1\" class=\"dataframe\">\n",
       "  <thead>\n",
       "    <tr style=\"text-align: right;\">\n",
       "      <th></th>\n",
       "      <th>word</th>\n",
       "      <th>Avg word Before</th>\n",
       "      <th>Avg word After</th>\n",
       "    </tr>\n",
       "  </thead>\n",
       "  <tbody>\n",
       "    <tr>\n",
       "      <th>0</th>\n",
       "      <td>conciousword</td>\n",
       "      <td>0.036396</td>\n",
       "      <td>0.037275</td>\n",
       "    </tr>\n",
       "    <tr>\n",
       "      <th>1</th>\n",
       "      <td>pst1fst</td>\n",
       "      <td>0.027635</td>\n",
       "      <td>0.027506</td>\n",
       "    </tr>\n",
       "    <tr>\n",
       "      <th>2</th>\n",
       "      <td>לא</td>\n",
       "      <td>0.028374</td>\n",
       "      <td>0.024660</td>\n",
       "    </tr>\n",
       "    <tr>\n",
       "      <th>3</th>\n",
       "      <td>זה</td>\n",
       "      <td>0.017402</td>\n",
       "      <td>0.018088</td>\n",
       "    </tr>\n",
       "    <tr>\n",
       "      <th>4</th>\n",
       "      <td>אני</td>\n",
       "      <td>0.015712</td>\n",
       "      <td>0.015629</td>\n",
       "    </tr>\n",
       "  </tbody>\n",
       "</table>\n",
       "</div>"
      ],
      "text/plain": [
       "           word  Avg word Before  Avg word After\n",
       "0  conciousword         0.036396        0.037275\n",
       "1       pst1fst         0.027635        0.027506\n",
       "2            לא         0.028374        0.024660\n",
       "3            זה         0.017402        0.018088\n",
       "4           אני         0.015712        0.015629"
      ]
     },
     "execution_count": 281,
     "metadata": {},
     "output_type": "execute_result"
    }
   ],
   "source": [
    "Avg_words_df = pd.read_excel(\"averageWord.xlsx\")\n",
    "if \"Unnamed: 0\" in Avg_words_df.columns:\n",
    "    Avg_words_df = Avg_words_df.drop(columns=\"Unnamed: 0\")\n",
    "Avg_words_df.head()"
   ]
  },
  {
   "cell_type": "markdown",
   "metadata": {},
   "source": [
    "<br>"
   ]
  },
  {
   "cell_type": "markdown",
   "metadata": {},
   "source": [
    "<br>"
   ]
  },
  {
   "cell_type": "markdown",
   "metadata": {},
   "source": [
    "<br>"
   ]
  },
  {
   "cell_type": "markdown",
   "metadata": {},
   "source": [
    "## Prominent words from each group  <br>- The ratio of the prevalence of a word in a particular group to the sum of the total prevalence of the words in that group"
   ]
  },
  {
   "cell_type": "code",
   "execution_count": 282,
   "metadata": {},
   "outputs": [],
   "source": [
    "Avg_words_df = pd.read_excel(\"averageWord.xlsx\")\n",
    "if \"Unnamed: 0\" in Avg_words_df.columns:\n",
    "    Avg_words_df = Avg_words_df.drop(columns=\"Unnamed: 0\")"
   ]
  },
  {
   "cell_type": "code",
   "execution_count": 283,
   "metadata": {},
   "outputs": [
    {
     "data": {
      "text/html": [
       "<div>\n",
       "<style scoped>\n",
       "    .dataframe tbody tr th:only-of-type {\n",
       "        vertical-align: middle;\n",
       "    }\n",
       "\n",
       "    .dataframe tbody tr th {\n",
       "        vertical-align: top;\n",
       "    }\n",
       "\n",
       "    .dataframe thead th {\n",
       "        text-align: right;\n",
       "    }\n",
       "</style>\n",
       "<table border=\"1\" class=\"dataframe\">\n",
       "  <thead>\n",
       "    <tr style=\"text-align: right;\">\n",
       "      <th></th>\n",
       "      <th>word</th>\n",
       "      <th>Avg word Before</th>\n",
       "      <th>Avg word After</th>\n",
       "    </tr>\n",
       "  </thead>\n",
       "  <tbody>\n",
       "    <tr>\n",
       "      <th>0</th>\n",
       "      <td>conciousword</td>\n",
       "      <td>0.036396</td>\n",
       "      <td>0.037275</td>\n",
       "    </tr>\n",
       "    <tr>\n",
       "      <th>1</th>\n",
       "      <td>pst1fst</td>\n",
       "      <td>0.027635</td>\n",
       "      <td>0.027506</td>\n",
       "    </tr>\n",
       "    <tr>\n",
       "      <th>2</th>\n",
       "      <td>לא</td>\n",
       "      <td>0.028374</td>\n",
       "      <td>0.024660</td>\n",
       "    </tr>\n",
       "    <tr>\n",
       "      <th>3</th>\n",
       "      <td>זה</td>\n",
       "      <td>0.017402</td>\n",
       "      <td>0.018088</td>\n",
       "    </tr>\n",
       "    <tr>\n",
       "      <th>4</th>\n",
       "      <td>אני</td>\n",
       "      <td>0.015712</td>\n",
       "      <td>0.015629</td>\n",
       "    </tr>\n",
       "  </tbody>\n",
       "</table>\n",
       "</div>"
      ],
      "text/plain": [
       "           word  Avg word Before  Avg word After\n",
       "0  conciousword         0.036396        0.037275\n",
       "1       pst1fst         0.027635        0.027506\n",
       "2            לא         0.028374        0.024660\n",
       "3            זה         0.017402        0.018088\n",
       "4           אני         0.015712        0.015629"
      ]
     },
     "execution_count": 283,
     "metadata": {},
     "output_type": "execute_result"
    }
   ],
   "source": [
    "Avg_words_df.head()"
   ]
  },
  {
   "cell_type": "code",
   "execution_count": 284,
   "metadata": {},
   "outputs": [
    {
     "data": {
      "text/plain": [
       "{'Other': 0,\n",
       " '1st Body': 0,\n",
       " 'Verb': 0,\n",
       " 'Past': 0,\n",
       " 'Adverb': 0,\n",
       " 'Noun': 0,\n",
       " 'ConciousWord': 0,\n",
       " 'Present': 0,\n",
       " 'Adjective': 0,\n",
       " 'Name': 0,\n",
       " 'Emotion': 0,\n",
       " 'Infinitive': 0,\n",
       " 'Future': 0}"
      ]
     },
     "execution_count": 284,
     "metadata": {},
     "output_type": "execute_result"
    }
   ],
   "source": [
    "sum_of_prev_word_for_each_group_before = {key: 0 for key in groups.keys()}\n",
    "sum_of_prev_word_for_each_group_after = {key: 0 for key in groups.keys()}\n",
    "sum_of_prev_word_for_each_group_after"
   ]
  },
  {
   "cell_type": "code",
   "execution_count": 285,
   "metadata": {},
   "outputs": [],
   "source": [
    "for i,row in Avg_words_df.iterrows():\n",
    "    for key,val in groups.items():\n",
    "        if row[\"word\"] in val:\n",
    "            sum_of_prev_word_for_each_group_after[key]+=row[\"Avg word After\"]\n",
    "            sum_of_prev_word_for_each_group_before[key]+=row[\"Avg word Before\"]"
   ]
  },
  {
   "cell_type": "code",
   "execution_count": 286,
   "metadata": {},
   "outputs": [],
   "source": [
    "top_20_before = {}\n",
    "top_20_after = {}\n",
    "\n",
    "for key,val in groups.items():\n",
    "    temp_before=[]\n",
    "    temp_after=[]\n",
    "    \n",
    "    for word in val:\n",
    "        index = Avg_words_df[\"word\"][Avg_words_df[\"word\"] == word].index[0]\n",
    "        temp_before.append(tuple([word, Avg_words_df[\"Avg word Before\"][index] / sum_of_prev_word_for_each_group_before[key]]))\n",
    "        temp_after.append(tuple([word, Avg_words_df[\"Avg word After\"][index] / sum_of_prev_word_for_each_group_after[key]]))\n",
    "        \n",
    "    higher_prev_before = sorted([tup[1] for tup in temp_before], reverse=True)[:20]    \n",
    "    top_20_before[key] = [tup[0] for tup in temp_before if tup[1] in higher_prev_before]\n",
    "    \n",
    "    higher_prev_after = sorted([tup[1] for tup in temp_after], reverse=True)[:20]  \n",
    "    top_20_after[key] = [tup[0] for tup in temp_after if tup[1] in higher_prev_after]"
   ]
  },
  {
   "cell_type": "code",
   "execution_count": 287,
   "metadata": {},
   "outputs": [
    {
     "name": "stdout",
     "output_type": "stream",
     "text": [
      "\n",
      "\n",
      " group  Other  :\n",
      "לא\n",
      "זה\n",
      "את\n",
      "הוא\n",
      "של\n",
      "היא\n",
      "מה\n",
      "אבל\n",
      "על\n",
      "עם\n",
      "כבר\n",
      "כי\n",
      "לה\n",
      "לו\n",
      "אותו\n",
      "שהוא\n",
      "שהיא\n",
      "אותה\n",
      "משהו\n",
      "כאילו\n",
      "\n",
      "\n",
      " group  1st Body  :\n",
      "אני\n",
      "לי\n",
      "שלי\n",
      "ואני\n",
      "שאני\n",
      "הייתי\n",
      "אמרתי\n",
      "אותי\n",
      "יודעת\n",
      "אנחנו\n",
      "לנו\n",
      "ואמרתי\n",
      "ראיתי\n",
      "הבנתי\n",
      "התקשרתי\n",
      "ידעתי\n",
      "רציתי\n",
      "הרגשתי\n",
      "חשבתי\n",
      "אליי\n",
      "\n",
      "\n",
      " group  Verb  :\n",
      "היה\n",
      "הייתה\n",
      "הייתי\n",
      "שם\n",
      "אמרתי\n",
      "אמר\n",
      "יודעת\n",
      "היו\n",
      "אמרה\n",
      "אומרת\n",
      "רוצה\n",
      "קרה\n",
      "אמרו\n",
      "אומר\n",
      "ראיתי\n",
      "שהיה\n",
      "נראה\n",
      "ידעתי\n",
      "בא\n",
      "זוכר\n",
      "\n",
      "\n",
      " group  Past  :\n",
      "היה\n",
      "הייתה\n",
      "הייתי\n",
      "שם\n",
      "אמרתי\n",
      "אמר\n",
      "היו\n",
      "אמרה\n",
      "קרה\n",
      "אמרו\n",
      "ואמרתי\n",
      "ראיתי\n",
      "הבנתי\n",
      "שהיה\n",
      "התקשרתי\n",
      "נראה\n",
      "ידעתי\n",
      "רציתי\n",
      "היינו\n",
      "חשבתי\n",
      "\n",
      "\n",
      " group  Adverb  :\n",
      "אז\n",
      "ואז\n",
      "מאוד\n",
      "שם\n",
      "כמה\n",
      "כזה\n",
      "ממש\n",
      "אחרי\n",
      "יותר\n",
      "טוב\n",
      "שלא\n",
      "פשוט\n",
      "יש\n",
      "בעצם\n",
      "קצת\n",
      "בסדר\n",
      "ככה\n",
      "קשה\n",
      "הרבה\n",
      "באמת\n",
      "\n",
      "\n",
      " group  Noun  :\n",
      "כל\n",
      "אמא\n",
      "שם\n",
      "ממש\n",
      "אבא\n",
      "יום\n",
      "טוב\n",
      "בבית\n",
      "פעם\n",
      "יש\n",
      "הזמן\n",
      "היום\n",
      "אנשים\n",
      "חולים\n",
      "דבר\n",
      "זמן\n",
      "הבית\n",
      "שיש\n",
      "שעה\n",
      "אדם\n",
      "\n",
      "\n",
      " group  ConciousWord  :\n",
      "אה\n",
      "הבנתי\n",
      "נכון\n",
      "אמ\n",
      "אממ\n",
      "לעצמי\n",
      "אהה\n",
      "החלטתי\n",
      "ואה\n",
      "ההכרה\n",
      "מממ\n",
      "שאה\n",
      "כמוני\n",
      "וכשאני\n",
      "ממ\n",
      "אםם\n",
      "הממ\n",
      "אמממ\n",
      "ההה\n",
      "ואמ\n",
      "הדחקתי\n",
      "וכמדומני\n",
      "\n",
      "\n",
      " group  Present  :\n",
      "זוכרת\n",
      "יודעת\n",
      "אומרת\n",
      "רוצה\n",
      "צריך\n",
      "חושבת\n",
      "אומר\n",
      "יכול\n",
      "צריכה\n",
      "קורה\n",
      "בא\n",
      "זוכר\n",
      "יכולה\n",
      "יודע\n",
      "באה\n",
      "מנסה\n",
      "הולכת\n",
      "הולך\n",
      "חושב\n",
      "זזה\n",
      "\n",
      "\n",
      " group  Adjective  :\n",
      "טוב\n",
      "פשוט\n",
      "אחד\n",
      "הביתה\n",
      "באותו\n",
      "קצת\n",
      "בסדר\n",
      "נורא\n",
      "קשה\n",
      "הרבה\n",
      "צריכים\n",
      "מיני\n",
      "נמרץ\n",
      "אחרת\n",
      "האחרון\n",
      "רע\n",
      "רגיל\n",
      "ופשוט\n",
      "גרוע\n",
      "הרפואי\n",
      "\n",
      "\n",
      " group  Name  :\n",
      "בן\n",
      "אור\n",
      "איתי\n",
      "אדם\n",
      "רעות\n",
      "משה\n",
      "אלי\n",
      "טובה\n",
      "דוד\n",
      "יוסי\n",
      "שאולי\n",
      "שני\n",
      "תקווה\n",
      "מוישה\n",
      "זיו\n",
      "עלי\n",
      "דין\n",
      "עמית\n",
      "איתן\n",
      "ודולב\n",
      "\n",
      "\n",
      " group  Emotion  :\n",
      "הרגשתי\n",
      "לב\n",
      "מרגיש\n",
      "תקווה\n",
      "בכיתי\n",
      "שמח\n",
      "מרגישה\n",
      "לבכות\n",
      "הרגשה\n",
      "שמחה\n",
      "כאב\n",
      "אוהבת\n",
      "בלב\n",
      "בוכים\n",
      "הכאב\n",
      "בשמחה\n",
      "אוהב\n",
      "בצעקות\n",
      "ובכה\n",
      "עצובים\n",
      "\n",
      "\n",
      " group  Infinitive  :\n",
      "ללכת\n",
      "לדבר\n",
      "ליד\n",
      "לבוא\n",
      "להגיע\n",
      "לראות\n",
      "לקחת\n",
      "להתקשר\n",
      "להבין\n",
      "לעבור\n",
      "להיפרד\n",
      "להעביר\n",
      "להחזיק\n",
      "לנשום\n",
      "לנסוע\n",
      "לאכול\n",
      "למות\n",
      "לשכנע\n",
      "לקום\n",
      "לטיפול\n",
      "\n",
      "\n",
      " group  Future  :\n",
      "יהיה\n",
      "שתי\n",
      "תבוא\n",
      "שיהיה\n",
      "יקרה\n",
      "תהיה\n",
      "נגיד\n",
      "יחזור\n",
      "יבואו\n",
      "שתהיה\n",
      "לכי\n",
      "שיקח\n",
      "תדחפי\n",
      "אהיה\n",
      "ילך\n",
      "שנדע\n",
      "ייקח\n",
      "ושנצא\n",
      "תזוז\n",
      "שנשב\n"
     ]
    }
   ],
   "source": [
    "for key,val in top_20_before.items():\n",
    "    print(\"\\n\\n\",\"group \",key,\" :\")\n",
    "    for word in val:\n",
    "        print(word)"
   ]
  },
  {
   "cell_type": "code",
   "execution_count": 18,
   "metadata": {},
   "outputs": [
    {
     "name": "stdout",
     "output_type": "stream",
     "text": [
      "\n",
      "\n",
      " group  Other  :\n",
      "לא\n",
      "זה\n",
      "את\n",
      "הוא\n",
      "של\n",
      "היא\n",
      "מה\n",
      "אבל\n",
      "על\n",
      "עם\n",
      "כבר\n",
      "כי\n",
      "לה\n",
      "לו\n",
      "גם\n",
      "אותו\n",
      "שהוא\n",
      "שהיא\n",
      "שזה\n",
      "או\n",
      "\n",
      "\n",
      " group  1st Body  :\n",
      "אני\n",
      "לי\n",
      "שלי\n",
      "ואני\n",
      "שאני\n",
      "הייתי\n",
      "אמרתי\n",
      "אותי\n",
      "יודעת\n",
      "אנחנו\n",
      "לנו\n",
      "ואמרתי\n",
      "ראיתי\n",
      "הבנתי\n",
      "רציתי\n",
      "הרגשתי\n",
      "שלנו\n",
      "שאנחנו\n",
      "נכנסתי\n",
      "הלכתי\n",
      "\n",
      "\n",
      " group  Verb  :\n",
      "היה\n",
      "הייתה\n",
      "הייתי\n",
      "שם\n",
      "אמרתי\n",
      "אמר\n",
      "יודעת\n",
      "היו\n",
      "אמרה\n",
      "אומרת\n",
      "רוצה\n",
      "צריך\n",
      "קרה\n",
      "אמרו\n",
      "חושבת\n",
      "אומר\n",
      "הבנתי\n",
      "רציתי\n",
      "הרגשתי\n",
      "זוכר\n",
      "\n",
      "\n",
      " group  Past  :\n",
      "היה\n",
      "הייתה\n",
      "הייתי\n",
      "שם\n",
      "אמרתי\n",
      "אמר\n",
      "היו\n",
      "אמרה\n",
      "קרה\n",
      "אמרו\n",
      "ואמרתי\n",
      "ראיתי\n",
      "הגיע\n",
      "הבנתי\n",
      "שהיה\n",
      "נראה\n",
      "רציתי\n",
      "הרגשתי\n",
      "נכנסתי\n",
      "הלכתי\n",
      "\n",
      "\n",
      " group  Adverb  :\n",
      "אז\n",
      "ואז\n",
      "מאוד\n",
      "שם\n",
      "כמה\n",
      "כזה\n",
      "ממש\n",
      "אחרי\n",
      "יותר\n",
      "טוב\n",
      "שלא\n",
      "פשוט\n",
      "יש\n",
      "בעצם\n",
      "עכשיו\n",
      "קצת\n",
      "כנראה\n",
      "קשה\n",
      "הרבה\n",
      "בדיוק\n",
      "\n",
      "\n",
      " group  Noun  :\n",
      "כל\n",
      "אמא\n",
      "שם\n",
      "ממש\n",
      "אבא\n",
      "יום\n",
      "טוב\n",
      "בבית\n",
      "פעם\n",
      "יש\n",
      "הזמן\n",
      "היום\n",
      "הכל\n",
      "אנשים\n",
      "לחדר\n",
      "חולים\n",
      "דבר\n",
      "לבית\n",
      "דברים\n",
      "אח\n",
      "\n",
      "\n",
      " group  ConciousWord  :\n",
      "אה\n",
      "הבנתי\n",
      "נכון\n",
      "אמ\n",
      "אממ\n",
      "לעצמי\n",
      "אהה\n",
      "החלטתי\n",
      "ואה\n",
      "ההכרה\n",
      "מממ\n",
      "שאה\n",
      "כמוני\n",
      "וכשאני\n",
      "ממ\n",
      "אםם\n",
      "הממ\n",
      "אמממ\n",
      "ההה\n",
      "ואמ\n",
      "הדחקתי\n",
      "וכמדומני\n",
      "\n",
      "\n",
      " group  Present  :\n",
      "זוכרת\n",
      "יודעת\n",
      "אומרת\n",
      "רוצה\n",
      "צריך\n",
      "חושבת\n",
      "אומר\n",
      "יכול\n",
      "צריכה\n",
      "קורה\n",
      "לך\n",
      "בא\n",
      "רואה\n",
      "זוכר\n",
      "יכולה\n",
      "יודע\n",
      "באה\n",
      "מנסה\n",
      "מבין\n",
      "עובד\n",
      "\n",
      "\n",
      " group  Adjective  :\n",
      "טוב\n",
      "פשוט\n",
      "אחד\n",
      "הביתה\n",
      "באותו\n",
      "קצת\n",
      "בסדר\n",
      "נורא\n",
      "קשה\n",
      "הרבה\n",
      "נכון\n",
      "צריכים\n",
      "אחר\n",
      "גדול\n",
      "טובה\n",
      "מיני\n",
      "מוזר\n",
      "נמרץ\n",
      "קרוב\n",
      "חזק\n",
      "\n",
      "\n",
      " group  Name  :\n",
      "בן\n",
      "אור\n",
      "איתי\n",
      "אדם\n",
      "רעות\n",
      "משה\n",
      "אלי\n",
      "טובה\n",
      "דוד\n",
      "שאולי\n",
      "שני\n",
      "צביקה\n",
      "זיו\n",
      "קובי\n",
      "נתן\n",
      "אברי\n",
      "שצביקה\n",
      "נמרוד\n",
      "דולב\n",
      "קרן\n",
      "\n",
      "\n",
      " group  Emotion  :\n",
      "הרגשתי\n",
      "לב\n",
      "מרגיש\n",
      "תקווה\n",
      "סליחה\n",
      "בכיתי\n",
      "שמח\n",
      "מרגישה\n",
      "לבכות\n",
      "הרגשה\n",
      "רגשות\n",
      "אהב\n",
      "שמחה\n",
      "כאב\n",
      "אהבה\n",
      "אוהבת\n",
      "בוכים\n",
      "בכי\n",
      "והרגשתי\n",
      "כאבים\n",
      "\n",
      "\n",
      " group  Infinitive  :\n",
      "ללכת\n",
      "לדבר\n",
      "ליד\n",
      "לבוא\n",
      "להגיע\n",
      "לראות\n",
      "לקחת\n",
      "להתקשר\n",
      "לצאת\n",
      "לתת\n",
      "לישון\n",
      "להבין\n",
      "לספר\n",
      "לעזור\n",
      "להישאר\n",
      "להתחיל\n",
      "להודיע\n",
      "לקבל\n",
      "לנשום\n",
      "לזהות\n",
      "\n",
      "\n",
      " group  Future  :\n",
      "יהיה\n",
      "שתי\n",
      "תבוא\n",
      "שיהיה\n",
      "יקרה\n",
      "נגיד\n",
      "אבוא\n",
      "אעשה\n",
      "אחיה\n",
      "תראי\n",
      "תדחפי\n",
      "נמרוד\n",
      "אגיד\n",
      "תסביר\n",
      "אגיע\n",
      "יפתח\n",
      "תצא\n",
      "ייסע\n",
      "יראה\n",
      "תיסע\n"
     ]
    }
   ],
   "source": [
    "for key,val in top_20_after.items():\n",
    "    print(\"\\n\\n\",\"group \",key,\" :\")\n",
    "    for word in val:\n",
    "        print(word)"
   ]
  },
  {
   "cell_type": "markdown",
   "metadata": {},
   "source": [
    "<br>"
   ]
  },
  {
   "cell_type": "markdown",
   "metadata": {},
   "source": [
    "<br>"
   ]
  },
  {
   "cell_type": "markdown",
   "metadata": {},
   "source": [
    "<br>"
   ]
  },
  {
   "cell_type": "markdown",
   "metadata": {},
   "source": [
    "\n",
    "### -----------------------------------------------------------------------------------------------------------------------------------------------------------Everything we tried about sentences was irrelevant. Because in the text there is no proper division of sentences."
   ]
  },
  {
   "cell_type": "markdown",
   "metadata": {},
   "source": [
    "## word per sentences dataframe<br>- including average occurrences of each word in all sentences in the file"
   ]
  },
  {
   "cell_type": "code",
   "execution_count": null,
   "metadata": {},
   "outputs": [],
   "source": [
    "from nltk.tokenize import RegexpTokenizer\n",
    "tokenizer = RegexpTokenizer(r'[^.!]+')\n",
    "\n",
    "#The number of sentences a word appears divided by the number of sentences in the file\n",
    "def  OccurrencesOfEachWordInAllSentences(file):\n",
    "    \n",
    "    sentences_in_file = list(map(str.strip, tokenizer.tokenize(file))) \n",
    "    sentences_amount = len([ sent for sent in sentences_in_file if sent.split()!=[] ])\n",
    "    word_instance_counts = {}\n",
    "    \n",
    "    for i,word in enumerate(df[\"word\"]):\n",
    "        word_instance_counts[word] = 0\n",
    "        for sent in sentences_in_file:\n",
    "            if word in sent.split():\n",
    "                word_instance_counts[word] += 1\n",
    "        word_instance_counts[word] /= sentences_amount\n",
    "    \n",
    "    return word_instance_counts"
   ]
  },
  {
   "cell_type": "code",
   "execution_count": null,
   "metadata": {},
   "outputs": [],
   "source": [
    "after_files = {}\n",
    "before_files = {}\n",
    "\n",
    "for i,after_file in enumerate(afterArr):\n",
    "    after_file = OccurrencesOfEachWordInAllSentences(after_file)\n",
    "    before_file = OccurrencesOfEachWordInAllSentences(beforeArr[i])\n",
    "    for word in df['word']:\n",
    "        after_files[word] = after_files.get(word,0) + after_file.get(word,0)\n",
    "        before_files[word] = before_files.get(word,0) + before_file.get(word,0)"
   ]
  },
  {
   "cell_type": "code",
   "execution_count": null,
   "metadata": {},
   "outputs": [],
   "source": [
    "avgWordInSentences_df= pd.DataFrame(columns=['word','avg word in sentences before','avg word in sentences after','dist'], index=df.index)\n",
    "\n",
    "for i,word in enumerate(df['word']):\n",
    "    avgWordInSentences_df.loc[i , 'word'] = word\n",
    "    avgWordInSentences_df.loc[i , 'avg word in sentences before'] = before_files[word]/len(beforeArr)\n",
    "    avgWordInSentences_df.loc[i , 'avg word in sentences after'] = after_files[word]/len(afterArr)\n",
    "    avgWordInSentences_df.loc[i , 'dist'] = avgWordInSentences_df['avg word in sentences before'][i] - avgWordInSentences_df['avg word in sentences after'][i]"
   ]
  },
  {
   "cell_type": "code",
   "execution_count": null,
   "metadata": {},
   "outputs": [],
   "source": [
    "avgWordInSentences_df.to_excel(\"avgWordInSentences_df.xlsx\")"
   ]
  },
  {
   "cell_type": "markdown",
   "metadata": {},
   "source": [
    "<br>"
   ]
  },
  {
   "cell_type": "markdown",
   "metadata": {},
   "source": [
    "## similar sentences dataframe <br>- Includes finding and comparing similar sentences between files before and after treatment for each patient"
   ]
  },
  {
   "cell_type": "code",
   "execution_count": null,
   "metadata": {},
   "outputs": [],
   "source": [
    "for i,file in enumerate(afterArr):\n",
    "    match = re.search(r'\\d+(.)\\d+(.)\\d+', file)\n",
    "    print(match)"
   ]
  },
  {
   "cell_type": "code",
   "execution_count": null,
   "metadata": {},
   "outputs": [],
   "source": [
    " afterArr[17]"
   ]
  },
  {
   "cell_type": "code",
   "execution_count": null,
   "metadata": {},
   "outputs": [],
   "source": [
    "from nltk.tokenize import RegexpTokenizer\n",
    "tokenizer = RegexpTokenizer(r'[^.!]+')"
   ]
  },
  {
   "cell_type": "code",
   "execution_count": null,
   "metadata": {},
   "outputs": [],
   "source": [
    "before_file_sentensecs = list(map(str.strip, tokenizer.tokenize(beforeArr[18]))) \n",
    "after_file_sentensecs = list(map(str.strip, tokenizer.tokenize(afterArr[18]))) "
   ]
  },
  {
   "cell_type": "code",
   "execution_count": null,
   "metadata": {},
   "outputs": [],
   "source": [
    "for i,sen in enumerate(before_file_sentensecs):\n",
    "    print(i,\" : \")\n",
    "    for s in sen.split():\n",
    "        print(s,\"\\n\")\n",
    "    print(\"\\n\")      "
   ]
  },
  {
   "cell_type": "code",
   "execution_count": null,
   "metadata": {},
   "outputs": [],
   "source": [
    "for i,sen in enumerate(after_file_sentensecs):\n",
    "    print(i,\" : \")\n",
    "    for s in sen.split():\n",
    "        print(s,\"\\n\")\n",
    "    print(\"\\n\")      "
   ]
  },
  {
   "cell_type": "code",
   "execution_count": null,
   "metadata": {},
   "outputs": [],
   "source": [
    "len(after_file_sentensecs)"
   ]
  },
  {
   "cell_type": "code",
   "execution_count": null,
   "metadata": {},
   "outputs": [],
   "source": [
    "len(before_file_sentensecs)"
   ]
  },
  {
   "cell_type": "code",
   "execution_count": null,
   "metadata": {},
   "outputs": [],
   "source": [
    "import operator\n",
    "\n",
    "most_similar = {}\n",
    "for i,a_sen in enumerate(after_file_sentensecs):\n",
    "    temp = {}\n",
    "    for  j,b_sen in enumerate(before_file_sentensecs):\n",
    "        temp[b_sen] = len( set(b_sen.split()) & set(a_sen.split()) ) \n",
    "    b_most_similar_to_a = max(temp.items(), key=operator.itemgetter(1))[0] \n",
    "    most_similar[a_sen] = b_most_similar_to_a  \n",
    "    print(a_sen,\"\\n\")\n",
    "    print(b_most_similar_to_a)\n",
    "    print(\"\\n\\n\\n\\n\\n\")"
   ]
  },
  {
   "cell_type": "markdown",
   "metadata": {},
   "source": [
    "\n",
    "### -----------------------------------------------------------------------------------------------------------------------------------------------------------"
   ]
  },
  {
   "cell_type": "markdown",
   "metadata": {},
   "source": [
    "<br>"
   ]
  },
  {
   "cell_type": "markdown",
   "metadata": {},
   "source": [
    "<br>"
   ]
  },
  {
   "cell_type": "markdown",
   "metadata": {},
   "source": [
    "<br>"
   ]
  },
  {
   "cell_type": "markdown",
   "metadata": {},
   "source": [
    "## Classification of files before and after treatment"
   ]
  },
  {
   "cell_type": "markdown",
   "metadata": {},
   "source": [
    "#### Repeated Functions:"
   ]
  },
  {
   "cell_type": "code",
   "execution_count": 11,
   "metadata": {},
   "outputs": [],
   "source": [
    "import matplotlib.pyplot as plt\n",
    "from math import pi\n",
    "from sklearn.decomposition import PCA\n",
    "\n",
    "def Visualization(vectors):\n",
    "    # Set data\n",
    "    pca = PCA(n_components=2)\n",
    "    before_vectors = vectors.copy()[::2]\n",
    "    after_vectors = vectors.copy()[1::2]\n",
    "\n",
    "    x_pca = pca.fit_transform(before_vectors)\n",
    "    y_pca = pca.fit_transform(after_vectors)\n",
    "    \n",
    "    plt.xlabel('Principal component 1')\n",
    "    plt.ylabel('Principal component 2')\n",
    "    \n",
    "    plt.scatter(x_pca[:,0], x_pca[:, 1], marker=\"o\", cmap=\"magma\")\n",
    "    plt.scatter(y_pca[:,0], y_pca[:, 1], marker=\"o\", cmap=\"magma\")"
   ]
  },
  {
   "cell_type": "code",
   "execution_count": 12,
   "metadata": {},
   "outputs": [],
   "source": [
    "import random \n",
    "def our_train_and_split(target,files_vec,ratio): \n",
    "    \n",
    "    size_train =int(len(files_vec)*ratio)\n",
    "    if size_train%2 != 0:\n",
    "        size_train+=1  \n",
    "    print(size_train)\n",
    "    \n",
    "    even_index_in_files_vec = [i for i in range(0,len(files_vec)) if i%2==0]\n",
    "    x_train = []\n",
    "    y_train = []\n",
    "    index_choose = [] \n",
    "    \n",
    "    for i in range(0,int(size_train/2)):\n",
    "        \n",
    "        rand_row = random.choice(even_index_in_files_vec)\n",
    "\n",
    "        x_train.append(files_vec[rand_row])\n",
    "        x_train.append(files_vec[rand_row+1])\n",
    "        \n",
    "        y_train.append(target[rand_row])\n",
    "        y_train.append(target[rand_row+1])\n",
    "        \n",
    "        even_index_in_files_vec.remove(rand_row)\n",
    "        index_choose.append(rand_row)\n",
    "        index_choose.append(rand_row+1)\n",
    "        \n",
    "    x_test = [files_vec[row] for row in range(0,len(files_vec)) if row not in index_choose]\n",
    "    y_test = [target[row] for row in range(0,len(target)) if row not in index_choose]\n",
    "    \n",
    "    return x_train, y_train, x_test, y_test"
   ]
  },
  {
   "cell_type": "code",
   "execution_count": 13,
   "metadata": {},
   "outputs": [],
   "source": [
    "from sklearn.model_selection import GridSearchCV\n",
    "from sklearn import svm\n",
    "from sklearn import metrics\n",
    "from sklearn.ensemble import RandomForestClassifier\n",
    "from sklearn.linear_model import LogisticRegression\n",
    "from sklearn.ensemble import BaggingClassifier\n",
    "from sklearn.ensemble import GradientBoostingClassifier\n",
    "from sklearn.linear_model import SGDClassifier\n",
    "from sklearn.neighbors import KNeighborsClassifier\n",
    "from sklearn.naive_bayes import MultinomialNB\n",
    "from sklearn.tree import DecisionTreeClassifier\n",
    "from sklearn import metrics"
   ]
  },
  {
   "cell_type": "code",
   "execution_count": 14,
   "metadata": {},
   "outputs": [],
   "source": [
    "#Try different algorithms and different parameters\n",
    "model_params = {\n",
    "    'logistic_regression' : {\n",
    "        'model' : LogisticRegression(),\n",
    "        'params' : {\n",
    "            'penalty' : ['l2','l1'],\n",
    "            'C' : [100, 10, 1.0, 0.1, 0.01]\n",
    "        }\n",
    "    },\n",
    "    'svm':{\n",
    "        'model' : svm.SVC(gamma='auto' ),\n",
    "        'params' : {\n",
    "            'kernel' : ['poly', 'rbf', 'sigmoid'],\n",
    "            'C' : [0.001, 0.05 ,0.01, 0.1, 1, 10, 100, 500, 1000],\n",
    "            'gamma' : ['scale']\n",
    "        }\n",
    "    },\n",
    "    'random_forest' : {\n",
    "        'model' : RandomForestClassifier(),\n",
    "        'params' : {\n",
    "            'n_estimators' : [10, 100, 1000],\n",
    "            'max_features' : ['sqrt', 'log2']\n",
    "        }\n",
    "    },\n",
    "    'knn' : {\n",
    "        'model' : KNeighborsClassifier(),\n",
    "        'params' : {\n",
    "            'n_neighbors' : [3,5,7,9,11,13,15,17,19,21],\n",
    "            'weights' : ['uniform', 'distance',None],\n",
    "            'metric' : ['euclidean', 'manhattan', 'minkowski']\n",
    "        }\n",
    "    },\n",
    "    'decision_tree' : {\n",
    "        'model' : DecisionTreeClassifier(),\n",
    "        'params' : {\n",
    "            'max_depth' : [2,3,10,15,21],\n",
    "            'min_samples_split' : [2,3,10,15,21]\n",
    "        } \n",
    "     },\n",
    "     'bagged_decision_trees' : {\n",
    "        'model' : BaggingClassifier(),\n",
    "        'params' : {\n",
    "            'n_estimators' : [10, 100, 1000]\n",
    "        }\n",
    "    },\n",
    "    'stochastic_gradient_boosting' : {\n",
    "        'model' : GradientBoostingClassifier(),\n",
    "        'params' : {\n",
    "            'n_estimators' : [10, 100, 1000],\n",
    "            'learning_rate' : [0.001, 0.01, 0.1],\n",
    "            'subsample' : [0.5, 0.7, 1.0],\n",
    "            'max_depth' : [3, 7, 9]\n",
    "        }\n",
    "    },\n",
    "    'sgd' : {\n",
    "        'model' : SGDClassifier(),\n",
    "        'params' : {\n",
    "            'penalty':('l1','l2')\n",
    "        } \n",
    "     },\n",
    "     'naive_bayes' : {\n",
    "        'model' : MultinomialNB(),\n",
    "        'params' : {\n",
    "            \n",
    "        } \n",
    "     }\n",
    "\n",
    "}"
   ]
  },
  {
   "cell_type": "code",
   "execution_count": 15,
   "metadata": {},
   "outputs": [],
   "source": [
    "from sklearn.model_selection import KFold\n",
    "\n",
    "def GridSearchCV_TrainSetResult(x_train, y_train, x_test, y_test, num_split_cv):\n",
    "    scores = []\n",
    "\n",
    "    for model_name, mp in model_params.items():\n",
    "        #we decided shuffle = False , for keeping each patient's file one next to each other \n",
    "        cv = KFold(n_splits=num_split_cv, shuffle= False , random_state= None)\n",
    "        gs = GridSearchCV(mp['model'], mp['params'], scoring=\"accuracy\" ,cv=cv, n_jobs=-1, return_train_score=False)\n",
    "        gs = gs.fit(x_train,y_train)\n",
    "        scores.append({\n",
    "            'model' : model_name,\n",
    "            'best_score' : gs.best_score_,\n",
    "            'best_params' : gs.best_params_,\n",
    "        })\n",
    "    \n",
    "    return pd.DataFrame(scores,columns=['model','best_score','best_params'])"
   ]
  },
  {
   "cell_type": "code",
   "execution_count": 16,
   "metadata": {},
   "outputs": [],
   "source": [
    "def KNN_Classifier(x_train, y_train, x_test, y_test, met, k_n, w):\n",
    "    #Create KNN Classifier\n",
    "    knn = KNeighborsClassifier(metric=met, n_neighbors=k_n ,weights=w)\n",
    "\n",
    "    #Train the model using the training sets\n",
    "    knn.fit(x_train, y_train)\n",
    "\n",
    "    #Predict the response for test dataset\n",
    "    y_pred = knn.predict(x_test)\n",
    "\n",
    "    print(\"Accuracy:\",metrics.accuracy_score(y_test, y_pred))\n",
    "    print(\"Precision:\",metrics.precision_score(y_test, y_pred))\n",
    "    print(\"Recall:\",metrics.recall_score(y_test, y_pred))"
   ]
  },
  {
   "cell_type": "code",
   "execution_count": 17,
   "metadata": {},
   "outputs": [],
   "source": [
    "def SVM_Classifier(x_train, y_train, x_test, y_test, k, c, g):\n",
    "    #Create a svm Classifier\n",
    "    clf = svm.SVC(kernel=k,C=c, gamma=g)\n",
    "\n",
    "    #Train the model using the training sets\n",
    "    clf.fit(x_train, y_train)\n",
    "\n",
    "    #Predict the response for test dataset\n",
    "    y_pred = clf.predict(x_test)\n",
    "\n",
    "    print(\"Accuracy:\",metrics.accuracy_score(y_test, y_pred))\n",
    "    print(\"Precision:\",metrics.precision_score(y_test, y_pred))\n",
    "    print(\"Recall:\",metrics.recall_score(y_test, y_pred))"
   ]
  },
  {
   "cell_type": "code",
   "execution_count": 18,
   "metadata": {},
   "outputs": [],
   "source": [
    "def RANDOMFFOREST_Classifier(x_train, y_train, x_test, y_test, f, n_e):\n",
    "    #Create Random Forest Classifier\n",
    "    forest = RandomForestClassifier(max_features=f, n_estimators=n_e)\n",
    "\n",
    "    #Train the model using the training sets\n",
    "    forest.fit(x_train, y_train)\n",
    "\n",
    "    #Predict the response for test dataset\n",
    "    y_pred = forest.predict(x_test)\n",
    "\n",
    "    print(\"Accuracy:\",metrics.accuracy_score(y_test, y_pred))\n",
    "    print(\"Precision:\",metrics.precision_score(y_test, y_pred))\n",
    "    print(\"Recall:\",metrics.recall_score(y_test, y_pred))"
   ]
  },
  {
   "cell_type": "markdown",
   "metadata": {},
   "source": [
    "<br>"
   ]
  },
  {
   "cell_type": "markdown",
   "metadata": {},
   "source": [
    "### Testing----------Classification test by fictitious vectors----------"
   ]
  },
  {
   "cell_type": "code",
   "execution_count": 36,
   "metadata": {},
   "outputs": [],
   "source": [
    "fic_vec = []\n",
    "for i in range(40):\n",
    "    if i%2==0:\n",
    "        fic_vec.append([i* var for var in [0,0,0,0,0,0,0,0,0,0,1,1,1,1,1,1,1,1,1,1]])\n",
    "    else:\n",
    "        fic_vec.append([i* var for var in [1,1,1,1,1,1,1,1,1,1,0,0,0,0,0,0,0,0,0,0]])\n",
    "fic_target= [0 if i%2==0 else 1 for i in range(40)]"
   ]
  },
  {
   "cell_type": "code",
   "execution_count": 37,
   "metadata": {},
   "outputs": [
    {
     "data": {
      "image/png": "[encoded data removed]",
      "text/plain": [
       "<Figure size 432x288 with 1 Axes>"
      ]
     },
     "metadata": {
      "needs_background": "light"
     },
     "output_type": "display_data"
    }
   ],
   "source": [
    "Visualization(fic_vec)"
   ]
  },
  {
   "cell_type": "code",
   "execution_count": 38,
   "metadata": {},
   "outputs": [
    {
     "name": "stdout",
     "output_type": "stream",
     "text": [
      "30\n"
     ]
    }
   ],
   "source": [
    "x_train, y_train, x_test, y_test = our_train_and_split(fic_target,fic_vec,0.75)"
   ]
  },
  {
   "cell_type": "code",
   "execution_count": 39,
   "metadata": {},
   "outputs": [
    {
     "name": "stderr",
     "output_type": "stream",
     "text": [
      "C:\\Users\\Liat\\Anaconda3\\lib\\site-packages\\sklearn\\linear_model\\logistic.py:432: FutureWarning: Default solver will be changed to 'lbfgs' in 0.22. Specify a solver to silence this warning.\n",
      "  FutureWarning)\n"
     ]
    },
    {
     "data": {
      "text/html": [
       "<div>\n",
       "<style scoped>\n",
       "    .dataframe tbody tr th:only-of-type {\n",
       "        vertical-align: middle;\n",
       "    }\n",
       "\n",
       "    .dataframe tbody tr th {\n",
       "        vertical-align: top;\n",
       "    }\n",
       "\n",
       "    .dataframe thead th {\n",
       "        text-align: right;\n",
       "    }\n",
       "</style>\n",
       "<table border=\"1\" class=\"dataframe\">\n",
       "  <thead>\n",
       "    <tr style=\"text-align: right;\">\n",
       "      <th></th>\n",
       "      <th>model</th>\n",
       "      <th>best_score</th>\n",
       "      <th>best_params</th>\n",
       "    </tr>\n",
       "  </thead>\n",
       "  <tbody>\n",
       "    <tr>\n",
       "      <td>0</td>\n",
       "      <td>logistic_regression</td>\n",
       "      <td>1.000000</td>\n",
       "      <td>{'C': 100, 'penalty': 'l2'}</td>\n",
       "    </tr>\n",
       "    <tr>\n",
       "      <td>1</td>\n",
       "      <td>svm</td>\n",
       "      <td>1.000000</td>\n",
       "      <td>{'C': 0.001, 'gamma': 'scale', 'kernel': 'sigm...</td>\n",
       "    </tr>\n",
       "    <tr>\n",
       "      <td>2</td>\n",
       "      <td>random_forest</td>\n",
       "      <td>0.966667</td>\n",
       "      <td>{'max_features': 'sqrt', 'n_estimators': 10}</td>\n",
       "    </tr>\n",
       "    <tr>\n",
       "      <td>3</td>\n",
       "      <td>knn</td>\n",
       "      <td>1.000000</td>\n",
       "      <td>{'metric': 'euclidean', 'n_neighbors': 3, 'wei...</td>\n",
       "    </tr>\n",
       "    <tr>\n",
       "      <td>4</td>\n",
       "      <td>decision_tree</td>\n",
       "      <td>0.966667</td>\n",
       "      <td>{'max_depth': 2, 'min_samples_split': 2}</td>\n",
       "    </tr>\n",
       "    <tr>\n",
       "      <td>5</td>\n",
       "      <td>bagged_decision_trees</td>\n",
       "      <td>0.966667</td>\n",
       "      <td>{'n_estimators': 10}</td>\n",
       "    </tr>\n",
       "    <tr>\n",
       "      <td>6</td>\n",
       "      <td>stochastic_gradient_boosting</td>\n",
       "      <td>0.966667</td>\n",
       "      <td>{'learning_rate': 0.001, 'max_depth': 3, 'n_es...</td>\n",
       "    </tr>\n",
       "    <tr>\n",
       "      <td>7</td>\n",
       "      <td>sgd</td>\n",
       "      <td>0.966667</td>\n",
       "      <td>{'penalty': 'l1'}</td>\n",
       "    </tr>\n",
       "    <tr>\n",
       "      <td>8</td>\n",
       "      <td>naive_bayes</td>\n",
       "      <td>1.000000</td>\n",
       "      <td>{}</td>\n",
       "    </tr>\n",
       "  </tbody>\n",
       "</table>\n",
       "</div>"
      ],
      "text/plain": [
       "                          model  best_score  \\\n",
       "0           logistic_regression    1.000000   \n",
       "1                           svm    1.000000   \n",
       "2                 random_forest    0.966667   \n",
       "3                           knn    1.000000   \n",
       "4                 decision_tree    0.966667   \n",
       "5         bagged_decision_trees    0.966667   \n",
       "6  stochastic_gradient_boosting    0.966667   \n",
       "7                           sgd    0.966667   \n",
       "8                   naive_bayes    1.000000   \n",
       "\n",
       "                                         best_params  \n",
       "0                        {'C': 100, 'penalty': 'l2'}  \n",
       "1  {'C': 0.001, 'gamma': 'scale', 'kernel': 'sigm...  \n",
       "2       {'max_features': 'sqrt', 'n_estimators': 10}  \n",
       "3  {'metric': 'euclidean', 'n_neighbors': 3, 'wei...  \n",
       "4           {'max_depth': 2, 'min_samples_split': 2}  \n",
       "5                               {'n_estimators': 10}  \n",
       "6  {'learning_rate': 0.001, 'max_depth': 3, 'n_es...  \n",
       "7                                  {'penalty': 'l1'}  \n",
       "8                                                 {}  "
      ]
     },
     "execution_count": 39,
     "metadata": {},
     "output_type": "execute_result"
    }
   ],
   "source": [
    "score_df = GridSearchCV_TrainSetResult(x_train, y_train, x_test, y_test, 5)\n",
    "score_df"
   ]
  },
  {
   "cell_type": "code",
   "execution_count": 40,
   "metadata": {},
   "outputs": [
    {
     "data": {
      "text/plain": [
       "{'metric': 'euclidean', 'n_neighbors': 3, 'weights': 'uniform'}"
      ]
     },
     "execution_count": 40,
     "metadata": {},
     "output_type": "execute_result"
    }
   ],
   "source": [
    "score_df[\"best_params\"][3]"
   ]
  },
  {
   "cell_type": "code",
   "execution_count": 41,
   "metadata": {},
   "outputs": [
    {
     "name": "stdout",
     "output_type": "stream",
     "text": [
      "Accuracy: 1.0\n",
      "Precision: 1.0\n",
      "Recall: 1.0\n"
     ]
    }
   ],
   "source": [
    "KNN_Classifier(x_train, y_train, x_test, y_test, 'euclidean', 3, 'uniform')"
   ]
  },
  {
   "cell_type": "markdown",
   "metadata": {},
   "source": [
    "<br>"
   ]
  },
  {
   "cell_type": "markdown",
   "metadata": {},
   "source": [
    "<br>"
   ]
  },
  {
   "cell_type": "markdown",
   "metadata": {},
   "source": [
    "### First Classification try:"
   ]
  },
  {
   "cell_type": "markdown",
   "metadata": {},
   "source": [
    "#### Build vectors from the prevalence of each group in each file"
   ]
  },
  {
   "cell_type": "code",
   "execution_count": 42,
   "metadata": {},
   "outputs": [
    {
     "data": {
      "text/html": [
       "<div>\n",
       "<style scoped>\n",
       "    .dataframe tbody tr th:only-of-type {\n",
       "        vertical-align: middle;\n",
       "    }\n",
       "\n",
       "    .dataframe tbody tr th {\n",
       "        vertical-align: top;\n",
       "    }\n",
       "\n",
       "    .dataframe thead th {\n",
       "        text-align: right;\n",
       "    }\n",
       "</style>\n",
       "<table border=\"1\" class=\"dataframe\">\n",
       "  <thead>\n",
       "    <tr style=\"text-align: right;\">\n",
       "      <th></th>\n",
       "      <th>Patient</th>\n",
       "      <th>Noun Before</th>\n",
       "      <th>1st Body Before</th>\n",
       "      <th>ConciousWord Before</th>\n",
       "      <th>Verb Before</th>\n",
       "      <th>Past Before</th>\n",
       "      <th>Present Before</th>\n",
       "      <th>Future Before</th>\n",
       "      <th>Other Before</th>\n",
       "      <th>Adjective Before</th>\n",
       "      <th>...</th>\n",
       "      <th>Verb Ratio</th>\n",
       "      <th>Past Ratio</th>\n",
       "      <th>Present Ratio</th>\n",
       "      <th>Future Ratio</th>\n",
       "      <th>Other Ratio</th>\n",
       "      <th>Adjective Ratio</th>\n",
       "      <th>Adverb Ratio</th>\n",
       "      <th>Infinitive Ratio</th>\n",
       "      <th>Emotion Ratio</th>\n",
       "      <th>Name Ratio</th>\n",
       "    </tr>\n",
       "  </thead>\n",
       "  <tbody>\n",
       "    <tr>\n",
       "      <td>0</td>\n",
       "      <td>0</td>\n",
       "      <td>0.225</td>\n",
       "      <td>0.077</td>\n",
       "      <td>0.031</td>\n",
       "      <td>0.187</td>\n",
       "      <td>0.112</td>\n",
       "      <td>0.075</td>\n",
       "      <td>0.000</td>\n",
       "      <td>0.311</td>\n",
       "      <td>0.059</td>\n",
       "      <td>...</td>\n",
       "      <td>1.191</td>\n",
       "      <td>0.991</td>\n",
       "      <td>2.206</td>\n",
       "      <td>0.000</td>\n",
       "      <td>1.280</td>\n",
       "      <td>1.341</td>\n",
       "      <td>0.778</td>\n",
       "      <td>0.906</td>\n",
       "      <td>1.625</td>\n",
       "      <td>0.667</td>\n",
       "    </tr>\n",
       "    <tr>\n",
       "      <td>1</td>\n",
       "      <td>1</td>\n",
       "      <td>0.217</td>\n",
       "      <td>0.114</td>\n",
       "      <td>0.010</td>\n",
       "      <td>0.189</td>\n",
       "      <td>0.100</td>\n",
       "      <td>0.071</td>\n",
       "      <td>0.018</td>\n",
       "      <td>0.243</td>\n",
       "      <td>0.044</td>\n",
       "      <td>...</td>\n",
       "      <td>1.005</td>\n",
       "      <td>1.010</td>\n",
       "      <td>1.000</td>\n",
       "      <td>1.000</td>\n",
       "      <td>0.946</td>\n",
       "      <td>0.978</td>\n",
       "      <td>1.131</td>\n",
       "      <td>0.857</td>\n",
       "      <td>0.800</td>\n",
       "      <td>1.000</td>\n",
       "    </tr>\n",
       "    <tr>\n",
       "      <td>2</td>\n",
       "      <td>2</td>\n",
       "      <td>0.156</td>\n",
       "      <td>0.096</td>\n",
       "      <td>0.001</td>\n",
       "      <td>0.186</td>\n",
       "      <td>0.131</td>\n",
       "      <td>0.050</td>\n",
       "      <td>0.014</td>\n",
       "      <td>0.279</td>\n",
       "      <td>0.036</td>\n",
       "      <td>...</td>\n",
       "      <td>0.903</td>\n",
       "      <td>0.766</td>\n",
       "      <td>1.429</td>\n",
       "      <td>1.750</td>\n",
       "      <td>1.187</td>\n",
       "      <td>1.800</td>\n",
       "      <td>1.109</td>\n",
       "      <td>1.107</td>\n",
       "      <td>3.333</td>\n",
       "      <td>0.300</td>\n",
       "    </tr>\n",
       "    <tr>\n",
       "      <td>3</td>\n",
       "      <td>3</td>\n",
       "      <td>0.168</td>\n",
       "      <td>0.091</td>\n",
       "      <td>0.008</td>\n",
       "      <td>0.171</td>\n",
       "      <td>0.104</td>\n",
       "      <td>0.053</td>\n",
       "      <td>0.014</td>\n",
       "      <td>0.281</td>\n",
       "      <td>0.068</td>\n",
       "      <td>...</td>\n",
       "      <td>1.082</td>\n",
       "      <td>1.010</td>\n",
       "      <td>1.152</td>\n",
       "      <td>1.400</td>\n",
       "      <td>1.115</td>\n",
       "      <td>1.511</td>\n",
       "      <td>0.918</td>\n",
       "      <td>0.839</td>\n",
       "      <td>2.500</td>\n",
       "      <td>1.125</td>\n",
       "    </tr>\n",
       "    <tr>\n",
       "      <td>4</td>\n",
       "      <td>4</td>\n",
       "      <td>0.242</td>\n",
       "      <td>0.094</td>\n",
       "      <td>0.015</td>\n",
       "      <td>0.156</td>\n",
       "      <td>0.099</td>\n",
       "      <td>0.044</td>\n",
       "      <td>0.013</td>\n",
       "      <td>0.252</td>\n",
       "      <td>0.068</td>\n",
       "      <td>...</td>\n",
       "      <td>1.020</td>\n",
       "      <td>0.971</td>\n",
       "      <td>0.863</td>\n",
       "      <td>1.182</td>\n",
       "      <td>0.920</td>\n",
       "      <td>1.333</td>\n",
       "      <td>0.861</td>\n",
       "      <td>1.632</td>\n",
       "      <td>0.778</td>\n",
       "      <td>1.800</td>\n",
       "    </tr>\n",
       "  </tbody>\n",
       "</table>\n",
       "<p>5 rows × 40 columns</p>\n",
       "</div>"
      ],
      "text/plain": [
       "   Patient  Noun Before  1st Body Before  ConciousWord Before  Verb Before  \\\n",
       "0        0        0.225            0.077                0.031        0.187   \n",
       "1        1        0.217            0.114                0.010        0.189   \n",
       "2        2        0.156            0.096                0.001        0.186   \n",
       "3        3        0.168            0.091                0.008        0.171   \n",
       "4        4        0.242            0.094                0.015        0.156   \n",
       "\n",
       "   Past Before  Present Before  Future Before  Other Before  Adjective Before  \\\n",
       "0        0.112           0.075          0.000         0.311             0.059   \n",
       "1        0.100           0.071          0.018         0.243             0.044   \n",
       "2        0.131           0.050          0.014         0.279             0.036   \n",
       "3        0.104           0.053          0.014         0.281             0.068   \n",
       "4        0.099           0.044          0.013         0.252             0.068   \n",
       "\n",
       "   ...  Verb Ratio  Past Ratio  Present Ratio  Future Ratio  Other Ratio  \\\n",
       "0  ...       1.191       0.991          2.206         0.000        1.280   \n",
       "1  ...       1.005       1.010          1.000         1.000        0.946   \n",
       "2  ...       0.903       0.766          1.429         1.750        1.187   \n",
       "3  ...       1.082       1.010          1.152         1.400        1.115   \n",
       "4  ...       1.020       0.971          0.863         1.182        0.920   \n",
       "\n",
       "   Adjective Ratio  Adverb Ratio  Infinitive Ratio  Emotion Ratio  Name Ratio  \n",
       "0            1.341         0.778             0.906          1.625       0.667  \n",
       "1            0.978         1.131             0.857          0.800       1.000  \n",
       "2            1.800         1.109             1.107          3.333       0.300  \n",
       "3            1.511         0.918             0.839          2.500       1.125  \n",
       "4            1.333         0.861             1.632          0.778       1.800  \n",
       "\n",
       "[5 rows x 40 columns]"
      ]
     },
     "execution_count": 42,
     "metadata": {},
     "output_type": "execute_result"
    }
   ],
   "source": [
    "patientsdf= pd.read_excel(\"before_and_after.xlsx\")\n",
    "if \"Unnamed: 0\" in patientsdf.columns:\n",
    "    patientsdf = patientsdf.drop(columns=\"Unnamed: 0\")\n",
    "patientsdf.head()"
   ]
  },
  {
   "cell_type": "code",
   "execution_count": 29,
   "metadata": {},
   "outputs": [
    {
     "data": {
      "text/plain": [
       "Index(['Patient', 'Noun Before', '1st Body Before', 'ConciousWord Before',\n",
       "       'Verb Before', 'Past Before', 'Present Before', 'Future Before',\n",
       "       'Other Before', 'Adjective Before', 'Adverb Before',\n",
       "       'Infinitive Before', 'Emotion Before', 'Name Before', 'Noun After',\n",
       "       '1st Body After', 'ConciousWord After', 'Verb After', 'Past After',\n",
       "       'Present After', 'Future After', 'Other After', 'Adjective After',\n",
       "       'Adverb After', 'Infinitive After', 'Emotion After', 'Name After',\n",
       "       'Noun Ratio', '1st Body Ratio', 'ConciousWord Ratio', 'Verb Ratio',\n",
       "       'Past Ratio', 'Present Ratio', 'Future Ratio', 'Other Ratio',\n",
       "       'Adjective Ratio', 'Adverb Ratio', 'Infinitive Ratio', 'Emotion Ratio',\n",
       "       'Name Ratio'],\n",
       "      dtype='object')"
      ]
     },
     "execution_count": 29,
     "metadata": {},
     "output_type": "execute_result"
    }
   ],
   "source": [
    "patientsdf.columns"
   ]
  },
  {
   "cell_type": "code",
   "execution_count": 30,
   "metadata": {},
   "outputs": [],
   "source": [
    "file_vectors = []\n",
    "target = []\n",
    "for i in range(0,len(afterArr)):\n",
    "    target.append(0)\n",
    "    target.append(1)\n",
    "    file_vectors.append([patientsdf.iloc[i,col] for col in range(1,14)])\n",
    "    file_vectors.append([patientsdf.iloc[i,col] for col in range(14,27)])"
   ]
  },
  {
   "cell_type": "code",
   "execution_count": 189,
   "metadata": {},
   "outputs": [
    {
     "data": {
      "text/plain": [
       "[0.225,\n",
       " 0.077,\n",
       " 0.031,\n",
       " 0.187,\n",
       " 0.112,\n",
       " 0.075,\n",
       " 0.0,\n",
       " 0.311,\n",
       " 0.059,\n",
       " 0.07,\n",
       " 0.029,\n",
       " 0.013,\n",
       " 0.002]"
      ]
     },
     "execution_count": 189,
     "metadata": {},
     "output_type": "execute_result"
    }
   ],
   "source": [
    "file_vectors[0]"
   ]
  },
  {
   "cell_type": "code",
   "execution_count": 190,
   "metadata": {},
   "outputs": [
    {
     "data": {
      "image/png": "[encoded data removed]",
      "text/plain": [
       "<Figure size 432x288 with 1 Axes>"
      ]
     },
     "metadata": {
      "needs_background": "light"
     },
     "output_type": "display_data"
    }
   ],
   "source": [
    "Visualization(file_vectors)"
   ]
  },
  {
   "cell_type": "code",
   "execution_count": 107,
   "metadata": {},
   "outputs": [
    {
     "name": "stdout",
     "output_type": "stream",
     "text": [
      "30\n"
     ]
    }
   ],
   "source": [
    "x_train, y_train, x_test, y_test = our_train_and_split(target,file_vectors,0.75)"
   ]
  },
  {
   "cell_type": "code",
   "execution_count": 108,
   "metadata": {},
   "outputs": [
    {
     "data": {
      "text/html": [
       "<div>\n",
       "<style scoped>\n",
       "    .dataframe tbody tr th:only-of-type {\n",
       "        vertical-align: middle;\n",
       "    }\n",
       "\n",
       "    .dataframe tbody tr th {\n",
       "        vertical-align: top;\n",
       "    }\n",
       "\n",
       "    .dataframe thead th {\n",
       "        text-align: right;\n",
       "    }\n",
       "</style>\n",
       "<table border=\"1\" class=\"dataframe\">\n",
       "  <thead>\n",
       "    <tr style=\"text-align: right;\">\n",
       "      <th></th>\n",
       "      <th>model</th>\n",
       "      <th>best_score</th>\n",
       "      <th>best_params</th>\n",
       "    </tr>\n",
       "  </thead>\n",
       "  <tbody>\n",
       "    <tr>\n",
       "      <th>0</th>\n",
       "      <td>logistic_regression</td>\n",
       "      <td>0.566667</td>\n",
       "      <td>{'C': 100, 'penalty': 'l2'}</td>\n",
       "    </tr>\n",
       "    <tr>\n",
       "      <th>1</th>\n",
       "      <td>svm</td>\n",
       "      <td>0.600000</td>\n",
       "      <td>{'C': 1, 'gamma': 'scale', 'kernel': 'poly'}</td>\n",
       "    </tr>\n",
       "    <tr>\n",
       "      <th>2</th>\n",
       "      <td>random_forest</td>\n",
       "      <td>0.733333</td>\n",
       "      <td>{'max_features': 'log2', 'n_estimators': 10}</td>\n",
       "    </tr>\n",
       "    <tr>\n",
       "      <th>3</th>\n",
       "      <td>knn</td>\n",
       "      <td>0.633333</td>\n",
       "      <td>{'metric': 'manhattan', 'n_neighbors': 5, 'wei...</td>\n",
       "    </tr>\n",
       "    <tr>\n",
       "      <th>4</th>\n",
       "      <td>decision_tree</td>\n",
       "      <td>0.533333</td>\n",
       "      <td>{'max_depth': 2, 'min_samples_split': 3}</td>\n",
       "    </tr>\n",
       "    <tr>\n",
       "      <th>5</th>\n",
       "      <td>bagged_decision_trees</td>\n",
       "      <td>0.566667</td>\n",
       "      <td>{'n_estimators': 100}</td>\n",
       "    </tr>\n",
       "    <tr>\n",
       "      <th>6</th>\n",
       "      <td>stochastic_gradient_boosting</td>\n",
       "      <td>0.666667</td>\n",
       "      <td>{'learning_rate': 0.1, 'max_depth': 7, 'n_esti...</td>\n",
       "    </tr>\n",
       "    <tr>\n",
       "      <th>7</th>\n",
       "      <td>sgd</td>\n",
       "      <td>0.533333</td>\n",
       "      <td>{'penalty': 'l2'}</td>\n",
       "    </tr>\n",
       "    <tr>\n",
       "      <th>8</th>\n",
       "      <td>naive_bayes</td>\n",
       "      <td>0.666667</td>\n",
       "      <td>{}</td>\n",
       "    </tr>\n",
       "  </tbody>\n",
       "</table>\n",
       "</div>"
      ],
      "text/plain": [
       "                          model  best_score  \\\n",
       "0           logistic_regression    0.566667   \n",
       "1                           svm    0.600000   \n",
       "2                 random_forest    0.733333   \n",
       "3                           knn    0.633333   \n",
       "4                 decision_tree    0.533333   \n",
       "5         bagged_decision_trees    0.566667   \n",
       "6  stochastic_gradient_boosting    0.666667   \n",
       "7                           sgd    0.533333   \n",
       "8                   naive_bayes    0.666667   \n",
       "\n",
       "                                         best_params  \n",
       "0                        {'C': 100, 'penalty': 'l2'}  \n",
       "1       {'C': 1, 'gamma': 'scale', 'kernel': 'poly'}  \n",
       "2       {'max_features': 'log2', 'n_estimators': 10}  \n",
       "3  {'metric': 'manhattan', 'n_neighbors': 5, 'wei...  \n",
       "4           {'max_depth': 2, 'min_samples_split': 3}  \n",
       "5                              {'n_estimators': 100}  \n",
       "6  {'learning_rate': 0.1, 'max_depth': 7, 'n_esti...  \n",
       "7                                  {'penalty': 'l2'}  \n",
       "8                                                 {}  "
      ]
     },
     "execution_count": 108,
     "metadata": {},
     "output_type": "execute_result"
    }
   ],
   "source": [
    "score_df = GridSearchCV_TrainSetResult(x_train, y_train, x_test, y_test, 5)\n",
    "score_df"
   ]
  },
  {
   "cell_type": "code",
   "execution_count": 109,
   "metadata": {},
   "outputs": [
    {
     "name": "stdout",
     "output_type": "stream",
     "text": [
      "Accuracy: 0.5\n",
      "Precision: 0.5\n",
      "Recall: 0.6\n"
     ]
    }
   ],
   "source": [
    "SVM_Classifier(x_train, y_train, x_test, y_test, 'rbf', 2, 'scale')"
   ]
  },
  {
   "cell_type": "code",
   "execution_count": 110,
   "metadata": {},
   "outputs": [
    {
     "name": "stdout",
     "output_type": "stream",
     "text": [
      "Accuracy: 0.4\n",
      "Precision: 0.4\n",
      "Recall: 0.4\n"
     ]
    }
   ],
   "source": [
    "RANDOMFFOREST_Classifier(x_train, y_train, x_test, y_test, 'log2', 10)"
   ]
  },
  {
   "cell_type": "markdown",
   "metadata": {},
   "source": [
    "<br>"
   ]
  },
  {
   "cell_type": "markdown",
   "metadata": {},
   "source": [
    "<br>"
   ]
  },
  {
   "cell_type": "markdown",
   "metadata": {},
   "source": [
    "<br>"
   ]
  },
  {
   "cell_type": "markdown",
   "metadata": {},
   "source": [
    "### Second Classification Try:"
   ]
  },
  {
   "cell_type": "markdown",
   "metadata": {},
   "source": [
    "#### From Average-words dataframe that contains the prevalence of all words, we will examine which are the most prominent words, the words with the largest or smallest reduction between patient's files before and after treatment."
   ]
  },
  {
   "cell_type": "code",
   "execution_count": 19,
   "metadata": {},
   "outputs": [
    {
     "data": {
      "text/html": [
       "<div>\n",
       "<style scoped>\n",
       "    .dataframe tbody tr th:only-of-type {\n",
       "        vertical-align: middle;\n",
       "    }\n",
       "\n",
       "    .dataframe tbody tr th {\n",
       "        vertical-align: top;\n",
       "    }\n",
       "\n",
       "    .dataframe thead th {\n",
       "        text-align: right;\n",
       "    }\n",
       "</style>\n",
       "<table border=\"1\" class=\"dataframe\">\n",
       "  <thead>\n",
       "    <tr style=\"text-align: right;\">\n",
       "      <th></th>\n",
       "      <th>word</th>\n",
       "      <th>Avg word Before</th>\n",
       "      <th>Avg word After</th>\n",
       "    </tr>\n",
       "  </thead>\n",
       "  <tbody>\n",
       "    <tr>\n",
       "      <td>0</td>\n",
       "      <td>conciousword</td>\n",
       "      <td>0.036396</td>\n",
       "      <td>0.037275</td>\n",
       "    </tr>\n",
       "    <tr>\n",
       "      <td>1</td>\n",
       "      <td>pst1fst</td>\n",
       "      <td>0.027635</td>\n",
       "      <td>0.027506</td>\n",
       "    </tr>\n",
       "    <tr>\n",
       "      <td>2</td>\n",
       "      <td>לא</td>\n",
       "      <td>0.028374</td>\n",
       "      <td>0.024660</td>\n",
       "    </tr>\n",
       "    <tr>\n",
       "      <td>3</td>\n",
       "      <td>זה</td>\n",
       "      <td>0.017402</td>\n",
       "      <td>0.018088</td>\n",
       "    </tr>\n",
       "    <tr>\n",
       "      <td>4</td>\n",
       "      <td>אני</td>\n",
       "      <td>0.015712</td>\n",
       "      <td>0.015629</td>\n",
       "    </tr>\n",
       "  </tbody>\n",
       "</table>\n",
       "</div>"
      ],
      "text/plain": [
       "           word  Avg word Before  Avg word After\n",
       "0  conciousword         0.036396        0.037275\n",
       "1       pst1fst         0.027635        0.027506\n",
       "2            לא         0.028374        0.024660\n",
       "3            זה         0.017402        0.018088\n",
       "4           אני         0.015712        0.015629"
      ]
     },
     "execution_count": 19,
     "metadata": {},
     "output_type": "execute_result"
    }
   ],
   "source": [
    "avg_words_df = pd.read_excel(\"averageWord.xlsx\")\n",
    "if \"Unnamed: 0\" in avg_words_df.columns:\n",
    "    avg_words_df = avg_words_df.drop(columns=\"Unnamed: 0\")\n",
    "    \n",
    "avg_words_df.head()"
   ]
  },
  {
   "cell_type": "code",
   "execution_count": 20,
   "metadata": {},
   "outputs": [],
   "source": [
    "reduction = []\n",
    "for i,row in avg_words_df.iterrows():\n",
    "    reduction.append(tuple([ row[\"word\"], row[\"Avg word Before\"]-row[\"Avg word After\"] ]))\n",
    "\n",
    "prominent_words = [ tup[0] for tup in reduction if tup[1] in sorted([tup[1] for tup in reduction], reverse=True)[:10] ]\n",
    "neg_reduction = [ tup[0] for tup in reduction if tup[1] in sorted([tup[1] for tup in reduction])[:10] ]"
   ]
  },
  {
   "cell_type": "code",
   "execution_count": 21,
   "metadata": {},
   "outputs": [],
   "source": [
    "#20 words, 10 words with the highest incidence in pre-treatment files versus post-treatment files, and 10 with the smallest incidence.\n",
    "for w in neg_reduction:\n",
    "    prominent_words.append(w)"
   ]
  },
  {
   "cell_type": "code",
   "execution_count": 22,
   "metadata": {},
   "outputs": [
    {
     "data": {
      "text/plain": [
       "['לא',\n",
       " 'spectoken',\n",
       " 'break',\n",
       " 'שלי',\n",
       " 'כל',\n",
       " 'שהיא',\n",
       " 'והוא',\n",
       " 'הביתה',\n",
       " 'לעשות',\n",
       " 'לביה']"
      ]
     },
     "execution_count": 22,
     "metadata": {},
     "output_type": "execute_result"
    }
   ],
   "source": [
    "# The 10 words that stand out most in pre-treatment files versus post-treatment files\n",
    "prominent_words[:10]"
   ]
  },
  {
   "cell_type": "code",
   "execution_count": 23,
   "metadata": {},
   "outputs": [
    {
     "data": {
      "text/plain": [
       "['conciousword',\n",
       " 'את',\n",
       " 'היה',\n",
       " 'לי',\n",
       " 'pres1st',\n",
       " 'של',\n",
       " 'אבל',\n",
       " 'גם',\n",
       " 'אה',\n",
       " 'חושבת']"
      ]
     },
     "execution_count": 23,
     "metadata": {},
     "output_type": "execute_result"
    }
   ],
   "source": [
    "# The 10 words that stand out most in post-treatment files versus pre-treatment files\n",
    "prominent_words[10:]"
   ]
  },
  {
   "cell_type": "code",
   "execution_count": 24,
   "metadata": {},
   "outputs": [
    {
     "data": {
      "text/plain": [
       "20"
      ]
     },
     "execution_count": 24,
     "metadata": {},
     "output_type": "execute_result"
    }
   ],
   "source": [
    "len(prominent_words)"
   ]
  },
  {
   "cell_type": "markdown",
   "metadata": {},
   "source": [
    "#### We will create vector per file.<br> Each vector will contain the prevalence of each of the dominant words. <br>In addition we will add to each vector the prevalence of conciouswords, names, adjective, future and emotions in file .<br>This details we found interesting in patientsdf.<br>Another figure to consider is the length of a file"
   ]
  },
  {
   "cell_type": "code",
   "execution_count": 25,
   "metadata": {},
   "outputs": [],
   "source": [
    "def SumProminentWordinFile(file):\n",
    "\n",
    "    return [sum(1 for _ in re.finditer(r'\\b%s\\b' % re.escape(word), file)) / len(file.split()) for word in prominent_words]"
   ]
  },
  {
   "cell_type": "code",
   "execution_count": 28,
   "metadata": {},
   "outputs": [],
   "source": [
    "patient = []\n",
    "file_vectors =[]\n",
    "for i,f_a in enumerate(afterArr):\n",
    "    \n",
    "    #Prevalence of each of the dominant words\n",
    "    vec_before = SumProminentWordinFile(beforeArr[i])\n",
    "    vec_after = SumProminentWordinFile(f_a)\n",
    "    #Prevalence of conciouswords\n",
    "    vec_before.append(patientsdf.loc[i,\"ConciousWord Before\"])\n",
    "    vec_after.append(patientsdf.loc[i,\"ConciousWord After\"])\n",
    "    #Prevalence of names\n",
    "    vec_before.append(patientsdf.loc[i,\"Name Before\"])\n",
    "    vec_after.append(patientsdf.loc[i,\"Name After\"])\n",
    "    #Prevalence of adjective\n",
    "    vec_before.append(patientsdf.loc[i,\"Adjective Before\"])\n",
    "    vec_after.append(patientsdf.loc[i,\"Adjective After\"])\n",
    "    #Prevalence of future\n",
    "    vec_before.append(patientsdf.loc[i,\"Future Before\"])\n",
    "    vec_after.append(patientsdf.loc[i,\"Future After\"])\n",
    "    #Prevalence of emotions\n",
    "    vec_before.append(patientsdf.loc[i,\"Emotion Before\"])\n",
    "    vec_after.append(patientsdf.loc[i,\"Emotion After\"])\n",
    "    #length of a file\n",
    "    vec_before.append(len(beforeArr[i].split()))\n",
    "    vec_after.append(len(f_a.split()))\n",
    "\n",
    "    file_vectors.append(vec_before)\n",
    "    file_vectors.append(vec_after)\n",
    "\n",
    "    #nun patient\n",
    "    patient.append(i+1)\n",
    "    patient.append(i+1)\n",
    "\n",
    "    \n",
    "target = [i%2 for i in range(0,len(file_vectors))]"
   ]
  },
  {
   "cell_type": "code",
   "execution_count": 29,
   "metadata": {},
   "outputs": [
    {
     "data": {
      "image/png": "[encoded data removed]",
      "text/plain": [
       "<Figure size 432x288 with 1 Axes>"
      ]
     },
     "metadata": {
      "needs_background": "light"
     },
     "output_type": "display_data"
    }
   ],
   "source": [
    "Visualization(file_vectors)"
   ]
  },
  {
   "cell_type": "code",
   "execution_count": 30,
   "metadata": {},
   "outputs": [
    {
     "name": "stdout",
     "output_type": "stream",
     "text": [
      "30\n"
     ]
    }
   ],
   "source": [
    "x_train, y_train, x_test, y_test = our_train_and_split(target,file_vectors,0.75)"
   ]
  },
  {
   "cell_type": "code",
   "execution_count": 31,
   "metadata": {},
   "outputs": [
    {
     "name": "stderr",
     "output_type": "stream",
     "text": [
      "C:\\Users\\Liat\\Anaconda3\\lib\\site-packages\\sklearn\\linear_model\\logistic.py:432: FutureWarning: Default solver will be changed to 'lbfgs' in 0.22. Specify a solver to silence this warning.\n",
      "  FutureWarning)\n"
     ]
    },
    {
     "data": {
      "text/html": [
       "<div>\n",
       "<style scoped>\n",
       "    .dataframe tbody tr th:only-of-type {\n",
       "        vertical-align: middle;\n",
       "    }\n",
       "\n",
       "    .dataframe tbody tr th {\n",
       "        vertical-align: top;\n",
       "    }\n",
       "\n",
       "    .dataframe thead th {\n",
       "        text-align: right;\n",
       "    }\n",
       "</style>\n",
       "<table border=\"1\" class=\"dataframe\">\n",
       "  <thead>\n",
       "    <tr style=\"text-align: right;\">\n",
       "      <th></th>\n",
       "      <th>model</th>\n",
       "      <th>best_score</th>\n",
       "      <th>best_params</th>\n",
       "    </tr>\n",
       "  </thead>\n",
       "  <tbody>\n",
       "    <tr>\n",
       "      <td>0</td>\n",
       "      <td>logistic_regression</td>\n",
       "      <td>0.733333</td>\n",
       "      <td>{'C': 100, 'penalty': 'l2'}</td>\n",
       "    </tr>\n",
       "    <tr>\n",
       "      <td>1</td>\n",
       "      <td>svm</td>\n",
       "      <td>0.666667</td>\n",
       "      <td>{'C': 0.001, 'gamma': 'scale', 'kernel': 'sigm...</td>\n",
       "    </tr>\n",
       "    <tr>\n",
       "      <td>2</td>\n",
       "      <td>random_forest</td>\n",
       "      <td>0.700000</td>\n",
       "      <td>{'max_features': 'sqrt', 'n_estimators': 100}</td>\n",
       "    </tr>\n",
       "    <tr>\n",
       "      <td>3</td>\n",
       "      <td>knn</td>\n",
       "      <td>0.700000</td>\n",
       "      <td>{'metric': 'euclidean', 'n_neighbors': 9, 'wei...</td>\n",
       "    </tr>\n",
       "    <tr>\n",
       "      <td>4</td>\n",
       "      <td>decision_tree</td>\n",
       "      <td>0.600000</td>\n",
       "      <td>{'max_depth': 10, 'min_samples_split': 15}</td>\n",
       "    </tr>\n",
       "    <tr>\n",
       "      <td>5</td>\n",
       "      <td>bagged_decision_trees</td>\n",
       "      <td>0.733333</td>\n",
       "      <td>{'n_estimators': 100}</td>\n",
       "    </tr>\n",
       "    <tr>\n",
       "      <td>6</td>\n",
       "      <td>stochastic_gradient_boosting</td>\n",
       "      <td>0.766667</td>\n",
       "      <td>{'learning_rate': 0.001, 'max_depth': 3, 'n_es...</td>\n",
       "    </tr>\n",
       "    <tr>\n",
       "      <td>7</td>\n",
       "      <td>sgd</td>\n",
       "      <td>0.500000</td>\n",
       "      <td>{'penalty': 'l1'}</td>\n",
       "    </tr>\n",
       "    <tr>\n",
       "      <td>8</td>\n",
       "      <td>naive_bayes</td>\n",
       "      <td>0.500000</td>\n",
       "      <td>{}</td>\n",
       "    </tr>\n",
       "  </tbody>\n",
       "</table>\n",
       "</div>"
      ],
      "text/plain": [
       "                          model  best_score  \\\n",
       "0           logistic_regression    0.733333   \n",
       "1                           svm    0.666667   \n",
       "2                 random_forest    0.700000   \n",
       "3                           knn    0.700000   \n",
       "4                 decision_tree    0.600000   \n",
       "5         bagged_decision_trees    0.733333   \n",
       "6  stochastic_gradient_boosting    0.766667   \n",
       "7                           sgd    0.500000   \n",
       "8                   naive_bayes    0.500000   \n",
       "\n",
       "                                         best_params  \n",
       "0                        {'C': 100, 'penalty': 'l2'}  \n",
       "1  {'C': 0.001, 'gamma': 'scale', 'kernel': 'sigm...  \n",
       "2      {'max_features': 'sqrt', 'n_estimators': 100}  \n",
       "3  {'metric': 'euclidean', 'n_neighbors': 9, 'wei...  \n",
       "4         {'max_depth': 10, 'min_samples_split': 15}  \n",
       "5                              {'n_estimators': 100}  \n",
       "6  {'learning_rate': 0.001, 'max_depth': 3, 'n_es...  \n",
       "7                                  {'penalty': 'l1'}  \n",
       "8                                                 {}  "
      ]
     },
     "execution_count": 31,
     "metadata": {},
     "output_type": "execute_result"
    }
   ],
   "source": [
    "score_df = GridSearchCV_TrainSetResult(x_train, y_train, x_test, y_test, 5)\n",
    "score_df"
   ]
  },
  {
   "cell_type": "code",
   "execution_count": 32,
   "metadata": {},
   "outputs": [
    {
     "data": {
      "text/plain": [
       "{'metric': 'euclidean', 'n_neighbors': 9, 'weights': 'uniform'}"
      ]
     },
     "execution_count": 32,
     "metadata": {},
     "output_type": "execute_result"
    }
   ],
   "source": [
    "score_df[\"best_params\"][3]"
   ]
  },
  {
   "cell_type": "code",
   "execution_count": 35,
   "metadata": {},
   "outputs": [
    {
     "name": "stdout",
     "output_type": "stream",
     "text": [
      "Accuracy: 0.5\n",
      "Precision: 0.5\n",
      "Recall: 0.8\n"
     ]
    }
   ],
   "source": [
    "KNN_Classifier(x_train, y_train, x_test, y_test, 'euclidean', 9, 'uniform')"
   ]
  },
  {
   "cell_type": "code",
   "execution_count": 33,
   "metadata": {},
   "outputs": [
    {
     "name": "stdout",
     "output_type": "stream",
     "text": [
      "Accuracy: 0.6\n",
      "Precision: 0.5714285714285714\n",
      "Recall: 0.8\n"
     ]
    }
   ],
   "source": [
    "KNN_Classifier(x_train, y_train, x_test, y_test, 'euclidean', 13, 'distance')"
   ]
  },
  {
   "cell_type": "code",
   "execution_count": 34,
   "metadata": {},
   "outputs": [
    {
     "name": "stdout",
     "output_type": "stream",
     "text": [
      "Accuracy: 0.6\n",
      "Precision: 0.5714285714285714\n",
      "Recall: 0.8\n"
     ]
    }
   ],
   "source": [
    "KNN_Classifier(x_train, y_train, x_test, y_test, 'euclidean', 3, 'uniform')"
   ]
  },
  {
   "cell_type": "code",
   "execution_count": 90,
   "metadata": {},
   "outputs": [
    {
     "name": "stdout",
     "output_type": "stream",
     "text": [
      "Accuracy: 0.8\n",
      "Precision: 1.0\n",
      "Recall: 0.6\n"
     ]
    }
   ],
   "source": [
    "RANDOMFFOREST_Classifier(x_train, y_train, x_test, y_test, 'log2', 1000)"
   ]
  },
  {
   "cell_type": "markdown",
   "metadata": {},
   "source": [
    "#### Scaling only lengh file prameter"
   ]
  },
  {
   "cell_type": "code",
   "execution_count": 36,
   "metadata": {},
   "outputs": [],
   "source": [
    "len_lst = [v[-1] for v in file_vectors]\n",
    "max_len = max(len_lst)\n",
    "min_len = min(len_lst)"
   ]
  },
  {
   "cell_type": "code",
   "execution_count": 37,
   "metadata": {},
   "outputs": [],
   "source": [
    "without_len_x_train= [v[:-1] for v in x_train]\n",
    "without_len_x_test= [v[:-1] for v in x_test]"
   ]
  },
  {
   "cell_type": "code",
   "execution_count": 38,
   "metadata": {},
   "outputs": [],
   "source": [
    "scale_len_only_x_train=[]\n",
    "for i,v in enumerate(without_len_x_train):\n",
    "    temp= v\n",
    "    temp.append((x_train[i][-1]-min_len)/(max_len-min_len))\n",
    "    scale_len_only_x_train.append(temp)\n",
    "    \n",
    "scale_len_only_x_test=[]    \n",
    "for i,v in enumerate(without_len_x_test):\n",
    "    temp= v\n",
    "    temp.append((x_test[i][-1]-min_len)/(max_len-min_len))\n",
    "    scale_len_only_x_test.append(temp)"
   ]
  },
  {
   "cell_type": "code",
   "execution_count": 39,
   "metadata": {},
   "outputs": [
    {
     "name": "stderr",
     "output_type": "stream",
     "text": [
      "C:\\Users\\Liat\\Anaconda3\\lib\\site-packages\\sklearn\\linear_model\\logistic.py:432: FutureWarning: Default solver will be changed to 'lbfgs' in 0.22. Specify a solver to silence this warning.\n",
      "  FutureWarning)\n"
     ]
    },
    {
     "data": {
      "text/html": [
       "<div>\n",
       "<style scoped>\n",
       "    .dataframe tbody tr th:only-of-type {\n",
       "        vertical-align: middle;\n",
       "    }\n",
       "\n",
       "    .dataframe tbody tr th {\n",
       "        vertical-align: top;\n",
       "    }\n",
       "\n",
       "    .dataframe thead th {\n",
       "        text-align: right;\n",
       "    }\n",
       "</style>\n",
       "<table border=\"1\" class=\"dataframe\">\n",
       "  <thead>\n",
       "    <tr style=\"text-align: right;\">\n",
       "      <th></th>\n",
       "      <th>model</th>\n",
       "      <th>best_score</th>\n",
       "      <th>best_params</th>\n",
       "    </tr>\n",
       "  </thead>\n",
       "  <tbody>\n",
       "    <tr>\n",
       "      <td>0</td>\n",
       "      <td>logistic_regression</td>\n",
       "      <td>0.733333</td>\n",
       "      <td>{'C': 10, 'penalty': 'l2'}</td>\n",
       "    </tr>\n",
       "    <tr>\n",
       "      <td>1</td>\n",
       "      <td>svm</td>\n",
       "      <td>0.733333</td>\n",
       "      <td>{'C': 0.001, 'gamma': 'scale', 'kernel': 'sigm...</td>\n",
       "    </tr>\n",
       "    <tr>\n",
       "      <td>2</td>\n",
       "      <td>random_forest</td>\n",
       "      <td>0.633333</td>\n",
       "      <td>{'max_features': 'sqrt', 'n_estimators': 1000}</td>\n",
       "    </tr>\n",
       "    <tr>\n",
       "      <td>3</td>\n",
       "      <td>knn</td>\n",
       "      <td>0.733333</td>\n",
       "      <td>{'metric': 'manhattan', 'n_neighbors': 13, 'we...</td>\n",
       "    </tr>\n",
       "    <tr>\n",
       "      <td>4</td>\n",
       "      <td>decision_tree</td>\n",
       "      <td>0.600000</td>\n",
       "      <td>{'max_depth': 15, 'min_samples_split': 3}</td>\n",
       "    </tr>\n",
       "    <tr>\n",
       "      <td>5</td>\n",
       "      <td>bagged_decision_trees</td>\n",
       "      <td>0.600000</td>\n",
       "      <td>{'n_estimators': 10}</td>\n",
       "    </tr>\n",
       "    <tr>\n",
       "      <td>6</td>\n",
       "      <td>stochastic_gradient_boosting</td>\n",
       "      <td>0.766667</td>\n",
       "      <td>{'learning_rate': 0.01, 'max_depth': 7, 'n_est...</td>\n",
       "    </tr>\n",
       "    <tr>\n",
       "      <td>7</td>\n",
       "      <td>sgd</td>\n",
       "      <td>0.666667</td>\n",
       "      <td>{'penalty': 'l1'}</td>\n",
       "    </tr>\n",
       "    <tr>\n",
       "      <td>8</td>\n",
       "      <td>naive_bayes</td>\n",
       "      <td>0.666667</td>\n",
       "      <td>{}</td>\n",
       "    </tr>\n",
       "  </tbody>\n",
       "</table>\n",
       "</div>"
      ],
      "text/plain": [
       "                          model  best_score  \\\n",
       "0           logistic_regression    0.733333   \n",
       "1                           svm    0.733333   \n",
       "2                 random_forest    0.633333   \n",
       "3                           knn    0.733333   \n",
       "4                 decision_tree    0.600000   \n",
       "5         bagged_decision_trees    0.600000   \n",
       "6  stochastic_gradient_boosting    0.766667   \n",
       "7                           sgd    0.666667   \n",
       "8                   naive_bayes    0.666667   \n",
       "\n",
       "                                         best_params  \n",
       "0                         {'C': 10, 'penalty': 'l2'}  \n",
       "1  {'C': 0.001, 'gamma': 'scale', 'kernel': 'sigm...  \n",
       "2     {'max_features': 'sqrt', 'n_estimators': 1000}  \n",
       "3  {'metric': 'manhattan', 'n_neighbors': 13, 'we...  \n",
       "4          {'max_depth': 15, 'min_samples_split': 3}  \n",
       "5                               {'n_estimators': 10}  \n",
       "6  {'learning_rate': 0.01, 'max_depth': 7, 'n_est...  \n",
       "7                                  {'penalty': 'l1'}  \n",
       "8                                                 {}  "
      ]
     },
     "execution_count": 39,
     "metadata": {},
     "output_type": "execute_result"
    }
   ],
   "source": [
    "score_df = GridSearchCV_TrainSetResult(scale_len_only_x_train, y_train, scale_len_only_x_test, y_test, 5)\n",
    "score_df"
   ]
  },
  {
   "cell_type": "code",
   "execution_count": 40,
   "metadata": {},
   "outputs": [
    {
     "data": {
      "text/plain": [
       "{'metric': 'manhattan', 'n_neighbors': 13, 'weights': 'uniform'}"
      ]
     },
     "execution_count": 40,
     "metadata": {},
     "output_type": "execute_result"
    }
   ],
   "source": [
    "score_df[\"best_params\"][3]"
   ]
  },
  {
   "cell_type": "code",
   "execution_count": 52,
   "metadata": {},
   "outputs": [
    {
     "name": "stdout",
     "output_type": "stream",
     "text": [
      "Accuracy: 0.9\n",
      "Precision: 0.8333333333333334\n",
      "Recall: 1.0\n"
     ]
    }
   ],
   "source": [
    "RANDOMFFOREST_Classifier(scale_len_only_x_train, y_train, scale_len_only_x_test, y_test,'sqrt', 1000)"
   ]
  },
  {
   "cell_type": "code",
   "execution_count": 50,
   "metadata": {},
   "outputs": [
    {
     "name": "stdout",
     "output_type": "stream",
     "text": [
      "Accuracy: 0.8\n",
      "Precision: 0.8\n",
      "Recall: 0.8\n"
     ]
    }
   ],
   "source": [
    "RANDOMFFOREST_Classifier(scale_len_only_x_train, y_train, scale_len_only_x_test, y_test,'log2', 10)"
   ]
  },
  {
   "cell_type": "code",
   "execution_count": 60,
   "metadata": {},
   "outputs": [
    {
     "name": "stdout",
     "output_type": "stream",
     "text": [
      "Accuracy: 0.5\n",
      "Precision: 0.5\n",
      "Recall: 0.8\n"
     ]
    }
   ],
   "source": [
    "SVM_Classifier(scale_len_only_x_train, y_train, scale_len_only_x_test, y_test, 'sigmoid', 0.001, 'scale')"
   ]
  },
  {
   "cell_type": "code",
   "execution_count": 61,
   "metadata": {},
   "outputs": [
    {
     "name": "stdout",
     "output_type": "stream",
     "text": [
      "Accuracy: 0.5\n",
      "Precision: 0.5\n",
      "Recall: 0.8\n"
     ]
    }
   ],
   "source": [
    "KNN_Classifier(x_train, y_train, x_test, y_test, 'manhattan', 13, 'uniform')"
   ]
  },
  {
   "cell_type": "code",
   "execution_count": null,
   "metadata": {},
   "outputs": [],
   "source": [
    "x_train"
   ]
  },
  {
   "cell_type": "code",
   "execution_count": null,
   "metadata": {},
   "outputs": [],
   "source": []
  },
  {
   "cell_type": "markdown",
   "metadata": {},
   "source": [
    "#### scaling our vectors"
   ]
  },
  {
   "cell_type": "code",
   "execution_count": 65,
   "metadata": {},
   "outputs": [
    {
     "data": {
      "text/plain": [
       "array([0.41429256, 0.3438831 , 0.19294157, 0.40585477, 0.78022516,\n",
       "       0.57898049, 0.        , 0.        , 0.        , 0.        ,\n",
       "       0.06354007, 0.59939654, 0.        , 0.19823789, 0.24874135,\n",
       "       0.46449754, 0.60707688, 0.33012115, 0.34471366, 0.        ,\n",
       "       0.68888889, 0.        , 0.67241379, 0.        , 0.37037037,\n",
       "       0.01869531])"
      ]
     },
     "execution_count": 65,
     "metadata": {},
     "output_type": "execute_result"
    }
   ],
   "source": [
    "#tring scaling our vectors\n",
    "from sklearn.preprocessing import MinMaxScaler\n",
    "scaler = MinMaxScaler()\n",
    "scale_file_vectors = scaler.fit(file_vectors).transform(file_vectors)\n",
    "scale_file_vectors[0]"
   ]
  },
  {
   "cell_type": "code",
   "execution_count": 66,
   "metadata": {},
   "outputs": [
    {
     "data": {
      "image/png": "[encoded data removed]",
      "text/plain": [
       "<Figure size 432x288 with 1 Axes>"
      ]
     },
     "metadata": {
      "needs_background": "light"
     },
     "output_type": "display_data"
    }
   ],
   "source": [
    "Visualization(scale_file_vectors)"
   ]
  },
  {
   "cell_type": "code",
   "execution_count": 67,
   "metadata": {},
   "outputs": [
    {
     "name": "stdout",
     "output_type": "stream",
     "text": [
      "30\n"
     ]
    }
   ],
   "source": [
    "scale_x_train, y_train, scale_x_test, y_test = our_train_and_split(target,file_vectors,0.75)"
   ]
  },
  {
   "cell_type": "code",
   "execution_count": 68,
   "metadata": {},
   "outputs": [
    {
     "name": "stderr",
     "output_type": "stream",
     "text": [
      "C:\\Users\\Liat\\Anaconda3\\lib\\site-packages\\sklearn\\linear_model\\logistic.py:432: FutureWarning: Default solver will be changed to 'lbfgs' in 0.22. Specify a solver to silence this warning.\n",
      "  FutureWarning)\n"
     ]
    },
    {
     "data": {
      "text/html": [
       "<div>\n",
       "<style scoped>\n",
       "    .dataframe tbody tr th:only-of-type {\n",
       "        vertical-align: middle;\n",
       "    }\n",
       "\n",
       "    .dataframe tbody tr th {\n",
       "        vertical-align: top;\n",
       "    }\n",
       "\n",
       "    .dataframe thead th {\n",
       "        text-align: right;\n",
       "    }\n",
       "</style>\n",
       "<table border=\"1\" class=\"dataframe\">\n",
       "  <thead>\n",
       "    <tr style=\"text-align: right;\">\n",
       "      <th></th>\n",
       "      <th>model</th>\n",
       "      <th>best_score</th>\n",
       "      <th>best_params</th>\n",
       "    </tr>\n",
       "  </thead>\n",
       "  <tbody>\n",
       "    <tr>\n",
       "      <td>0</td>\n",
       "      <td>logistic_regression</td>\n",
       "      <td>0.700000</td>\n",
       "      <td>{'C': 100, 'penalty': 'l2'}</td>\n",
       "    </tr>\n",
       "    <tr>\n",
       "      <td>1</td>\n",
       "      <td>svm</td>\n",
       "      <td>0.633333</td>\n",
       "      <td>{'C': 10, 'gamma': 'scale', 'kernel': 'sigmoid'}</td>\n",
       "    </tr>\n",
       "    <tr>\n",
       "      <td>2</td>\n",
       "      <td>random_forest</td>\n",
       "      <td>0.666667</td>\n",
       "      <td>{'max_features': 'sqrt', 'n_estimators': 100}</td>\n",
       "    </tr>\n",
       "    <tr>\n",
       "      <td>3</td>\n",
       "      <td>knn</td>\n",
       "      <td>0.700000</td>\n",
       "      <td>{'metric': 'euclidean', 'n_neighbors': 21, 'we...</td>\n",
       "    </tr>\n",
       "    <tr>\n",
       "      <td>4</td>\n",
       "      <td>decision_tree</td>\n",
       "      <td>0.500000</td>\n",
       "      <td>{'max_depth': 3, 'min_samples_split': 21}</td>\n",
       "    </tr>\n",
       "    <tr>\n",
       "      <td>5</td>\n",
       "      <td>bagged_decision_trees</td>\n",
       "      <td>0.600000</td>\n",
       "      <td>{'n_estimators': 10}</td>\n",
       "    </tr>\n",
       "    <tr>\n",
       "      <td>6</td>\n",
       "      <td>stochastic_gradient_boosting</td>\n",
       "      <td>0.700000</td>\n",
       "      <td>{'learning_rate': 0.01, 'max_depth': 3, 'n_est...</td>\n",
       "    </tr>\n",
       "    <tr>\n",
       "      <td>7</td>\n",
       "      <td>sgd</td>\n",
       "      <td>0.500000</td>\n",
       "      <td>{'penalty': 'l1'}</td>\n",
       "    </tr>\n",
       "    <tr>\n",
       "      <td>8</td>\n",
       "      <td>naive_bayes</td>\n",
       "      <td>0.500000</td>\n",
       "      <td>{}</td>\n",
       "    </tr>\n",
       "  </tbody>\n",
       "</table>\n",
       "</div>"
      ],
      "text/plain": [
       "                          model  best_score  \\\n",
       "0           logistic_regression    0.700000   \n",
       "1                           svm    0.633333   \n",
       "2                 random_forest    0.666667   \n",
       "3                           knn    0.700000   \n",
       "4                 decision_tree    0.500000   \n",
       "5         bagged_decision_trees    0.600000   \n",
       "6  stochastic_gradient_boosting    0.700000   \n",
       "7                           sgd    0.500000   \n",
       "8                   naive_bayes    0.500000   \n",
       "\n",
       "                                         best_params  \n",
       "0                        {'C': 100, 'penalty': 'l2'}  \n",
       "1   {'C': 10, 'gamma': 'scale', 'kernel': 'sigmoid'}  \n",
       "2      {'max_features': 'sqrt', 'n_estimators': 100}  \n",
       "3  {'metric': 'euclidean', 'n_neighbors': 21, 'we...  \n",
       "4          {'max_depth': 3, 'min_samples_split': 21}  \n",
       "5                               {'n_estimators': 10}  \n",
       "6  {'learning_rate': 0.01, 'max_depth': 3, 'n_est...  \n",
       "7                                  {'penalty': 'l1'}  \n",
       "8                                                 {}  "
      ]
     },
     "execution_count": 68,
     "metadata": {},
     "output_type": "execute_result"
    }
   ],
   "source": [
    "score_df = GridSearchCV_TrainSetResult(scale_x_train, y_train, scale_x_test, y_test, 5)\n",
    "score_df"
   ]
  },
  {
   "cell_type": "code",
   "execution_count": 69,
   "metadata": {},
   "outputs": [
    {
     "data": {
      "text/plain": [
       "{'metric': 'euclidean', 'n_neighbors': 21, 'weights': 'uniform'}"
      ]
     },
     "execution_count": 69,
     "metadata": {},
     "output_type": "execute_result"
    }
   ],
   "source": [
    "score_df[\"best_params\"][3]"
   ]
  },
  {
   "cell_type": "code",
   "execution_count": 77,
   "metadata": {},
   "outputs": [
    {
     "name": "stdout",
     "output_type": "stream",
     "text": [
      "Accuracy: 0.8\n",
      "Precision: 0.7142857142857143\n",
      "Recall: 1.0\n"
     ]
    }
   ],
   "source": [
    "RANDOMFFOREST_Classifier(x_train, y_train, x_test, y_test, 'log2', 10)"
   ]
  },
  {
   "cell_type": "code",
   "execution_count": 148,
   "metadata": {},
   "outputs": [
    {
     "name": "stdout",
     "output_type": "stream",
     "text": [
      "Accuracy: 0.9\n",
      "Precision: 0.8333333333333334\n",
      "Recall: 1.0\n"
     ]
    }
   ],
   "source": [
    "KNN_Classifier(x_train, y_train, x_test, y_test, 'euclidean', 3, 'uniform')"
   ]
  },
  {
   "cell_type": "code",
   "execution_count": 150,
   "metadata": {},
   "outputs": [
    {
     "name": "stdout",
     "output_type": "stream",
     "text": [
      "Accuracy: 0.7\n",
      "Precision: 0.75\n",
      "Recall: 0.6\n"
     ]
    }
   ],
   "source": [
    "SVM_Classifier(scale_x_train, y_train, scale_x_test, y_test, 'rbf', 0.7, 'scale')"
   ]
  },
  {
   "cell_type": "markdown",
   "metadata": {},
   "source": [
    "#### The vectors didn't include the file length parameter."
   ]
  },
  {
   "cell_type": "code",
   "execution_count": 83,
   "metadata": {},
   "outputs": [],
   "source": [
    "file_vectors_without_len = [vec[:-1] for vec in file_vectors]"
   ]
  },
  {
   "cell_type": "code",
   "execution_count": 84,
   "metadata": {},
   "outputs": [
    {
     "data": {
      "image/png": "[encoded data removed]",
      "text/plain": [
       "<Figure size 432x288 with 1 Axes>"
      ]
     },
     "metadata": {
      "needs_background": "light"
     },
     "output_type": "display_data"
    }
   ],
   "source": [
    "Visualization(file_vectors_without_len)"
   ]
  },
  {
   "cell_type": "code",
   "execution_count": 85,
   "metadata": {},
   "outputs": [
    {
     "name": "stdout",
     "output_type": "stream",
     "text": [
      "30\n"
     ]
    }
   ],
   "source": [
    "x_train_without_len_param, y_train, x_test_without_len_param, y_test = our_train_and_split(target, file_vectors_without_len, 0.75)"
   ]
  },
  {
   "cell_type": "code",
   "execution_count": 86,
   "metadata": {},
   "outputs": [],
   "source": [
    "x_train_without_len_param = [vec[:-1] for vec in x_train]\n",
    "x_test_without_len_param = [vec[:-1] for vec in x_test]"
   ]
  },
  {
   "cell_type": "code",
   "execution_count": 89,
   "metadata": {},
   "outputs": [
    {
     "name": "stderr",
     "output_type": "stream",
     "text": [
      "C:\\Users\\Liat\\Anaconda3\\lib\\site-packages\\sklearn\\linear_model\\logistic.py:432: FutureWarning: Default solver will be changed to 'lbfgs' in 0.22. Specify a solver to silence this warning.\n",
      "  FutureWarning)\n"
     ]
    },
    {
     "data": {
      "text/html": [
       "<div>\n",
       "<style scoped>\n",
       "    .dataframe tbody tr th:only-of-type {\n",
       "        vertical-align: middle;\n",
       "    }\n",
       "\n",
       "    .dataframe tbody tr th {\n",
       "        vertical-align: top;\n",
       "    }\n",
       "\n",
       "    .dataframe thead th {\n",
       "        text-align: right;\n",
       "    }\n",
       "</style>\n",
       "<table border=\"1\" class=\"dataframe\">\n",
       "  <thead>\n",
       "    <tr style=\"text-align: right;\">\n",
       "      <th></th>\n",
       "      <th>model</th>\n",
       "      <th>best_score</th>\n",
       "      <th>best_params</th>\n",
       "    </tr>\n",
       "  </thead>\n",
       "  <tbody>\n",
       "    <tr>\n",
       "      <td>0</td>\n",
       "      <td>logistic_regression</td>\n",
       "      <td>0.700000</td>\n",
       "      <td>{'C': 100, 'penalty': 'l2'}</td>\n",
       "    </tr>\n",
       "    <tr>\n",
       "      <td>1</td>\n",
       "      <td>svm</td>\n",
       "      <td>0.633333</td>\n",
       "      <td>{'C': 10, 'gamma': 'scale', 'kernel': 'sigmoid'}</td>\n",
       "    </tr>\n",
       "    <tr>\n",
       "      <td>2</td>\n",
       "      <td>random_forest</td>\n",
       "      <td>0.666667</td>\n",
       "      <td>{'max_features': 'log2', 'n_estimators': 100}</td>\n",
       "    </tr>\n",
       "    <tr>\n",
       "      <td>3</td>\n",
       "      <td>knn</td>\n",
       "      <td>0.700000</td>\n",
       "      <td>{'metric': 'euclidean', 'n_neighbors': 21, 'we...</td>\n",
       "    </tr>\n",
       "    <tr>\n",
       "      <td>4</td>\n",
       "      <td>decision_tree</td>\n",
       "      <td>0.500000</td>\n",
       "      <td>{'max_depth': 3, 'min_samples_split': 21}</td>\n",
       "    </tr>\n",
       "    <tr>\n",
       "      <td>5</td>\n",
       "      <td>bagged_decision_trees</td>\n",
       "      <td>0.633333</td>\n",
       "      <td>{'n_estimators': 1000}</td>\n",
       "    </tr>\n",
       "    <tr>\n",
       "      <td>6</td>\n",
       "      <td>stochastic_gradient_boosting</td>\n",
       "      <td>0.700000</td>\n",
       "      <td>{'learning_rate': 0.01, 'max_depth': 7, 'n_est...</td>\n",
       "    </tr>\n",
       "    <tr>\n",
       "      <td>7</td>\n",
       "      <td>sgd</td>\n",
       "      <td>0.500000</td>\n",
       "      <td>{'penalty': 'l1'}</td>\n",
       "    </tr>\n",
       "    <tr>\n",
       "      <td>8</td>\n",
       "      <td>naive_bayes</td>\n",
       "      <td>0.500000</td>\n",
       "      <td>{}</td>\n",
       "    </tr>\n",
       "  </tbody>\n",
       "</table>\n",
       "</div>"
      ],
      "text/plain": [
       "                          model  best_score  \\\n",
       "0           logistic_regression    0.700000   \n",
       "1                           svm    0.633333   \n",
       "2                 random_forest    0.666667   \n",
       "3                           knn    0.700000   \n",
       "4                 decision_tree    0.500000   \n",
       "5         bagged_decision_trees    0.633333   \n",
       "6  stochastic_gradient_boosting    0.700000   \n",
       "7                           sgd    0.500000   \n",
       "8                   naive_bayes    0.500000   \n",
       "\n",
       "                                         best_params  \n",
       "0                        {'C': 100, 'penalty': 'l2'}  \n",
       "1   {'C': 10, 'gamma': 'scale', 'kernel': 'sigmoid'}  \n",
       "2      {'max_features': 'log2', 'n_estimators': 100}  \n",
       "3  {'metric': 'euclidean', 'n_neighbors': 21, 'we...  \n",
       "4          {'max_depth': 3, 'min_samples_split': 21}  \n",
       "5                             {'n_estimators': 1000}  \n",
       "6  {'learning_rate': 0.01, 'max_depth': 7, 'n_est...  \n",
       "7                                  {'penalty': 'l1'}  \n",
       "8                                                 {}  "
      ]
     },
     "execution_count": 89,
     "metadata": {},
     "output_type": "execute_result"
    }
   ],
   "source": [
    "score_df = GridSearchCV_TrainSetResult(scale_x_train, y_train, scale_x_test, y_test, 5)\n",
    "score_df"
   ]
  },
  {
   "cell_type": "code",
   "execution_count": 178,
   "metadata": {},
   "outputs": [
    {
     "name": "stdout",
     "output_type": "stream",
     "text": [
      "Accuracy: 0.7\n",
      "Precision: 0.625\n",
      "Recall: 1.0\n"
     ]
    }
   ],
   "source": [
    "RANDOMFFOREST_Classifier(x_train_without_len_param, y_train, x_test_without_len_param, y_test, 'sqrt', 100)"
   ]
  },
  {
   "cell_type": "code",
   "execution_count": 90,
   "metadata": {},
   "outputs": [
    {
     "name": "stdout",
     "output_type": "stream",
     "text": [
      "Accuracy: 0.5\n",
      "Precision: 0.5\n",
      "Recall: 1.0\n"
     ]
    }
   ],
   "source": [
    "SVM_Classifier(x_train_without_len_param, y_train, x_test_without_len_param, y_test, 'poly', 0.1, 'scale')"
   ]
  },
  {
   "cell_type": "code",
   "execution_count": 93,
   "metadata": {},
   "outputs": [
    {
     "name": "stdout",
     "output_type": "stream",
     "text": [
      "Accuracy: 0.6\n",
      "Precision: 0.5714285714285714\n",
      "Recall: 0.8\n"
     ]
    }
   ],
   "source": [
    "KNN_Classifier(x_train, y_train, x_test, y_test, 'euclidean', 3, 'uniform')"
   ]
  },
  {
   "cell_type": "markdown",
   "metadata": {},
   "source": [
    "<br>"
   ]
  },
  {
   "cell_type": "markdown",
   "metadata": {},
   "source": [
    "<br>"
   ]
  },
  {
   "cell_type": "markdown",
   "metadata": {},
   "source": [
    "<br>"
   ]
  }
 ],
 "metadata": {
  "kernelspec": {
   "display_name": "Python 3",
   "language": "python",
   "name": "python3"
  },
  "language_info": {
   "codemirror_mode": {
    "name": "ipython",
    "version": 3
   },
   "file_extension": ".py",
   "mimetype": "text/x-python",
   "name": "python",
   "nbconvert_exporter": "python",
   "pygments_lexer": "ipython3",
   "version": "3.7.4"
  }
 },
 "nbformat": 4,
 "nbformat_minor": 2
}
